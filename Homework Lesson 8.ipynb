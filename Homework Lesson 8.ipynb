{
 "cells": [
  {
   "cell_type": "markdown",
   "id": "b3f09cd2",
   "metadata": {},
   "source": [
    "### Домашняя работа к уроку 8"
   ]
  },
  {
   "cell_type": "markdown",
   "id": "5a46df1b",
   "metadata": {},
   "source": [
    "#### Задача 1 \n",
    "Обучите любую модель классификации на датасете IRIS до применения PCA и после него. Сравните качество классификации по отложенной выборке."
   ]
  },
  {
   "cell_type": "code",
   "execution_count": 135,
   "id": "61fc3d3d",
   "metadata": {
    "ExecuteTime": {
     "end_time": "2023-04-21T20:21:52.023270Z",
     "start_time": "2023-04-21T20:21:52.019281Z"
    }
   },
   "outputs": [],
   "source": [
    "# Зависимости:\n",
    "import numpy as np\n",
    "from sklearn import datasets\n",
    "from sklearn.model_selection import train_test_split\n",
    "from sklearn.preprocessing import StandardScaler\n",
    "from sklearn.decomposition import PCA\n",
    "from sklearn.ensemble import RandomForestClassifier\n",
    "from sklearn.metrics import f1_score\n",
    "import matplotlib.pyplot as plt\n",
    "import random"
   ]
  },
  {
   "cell_type": "code",
   "execution_count": 136,
   "id": "14f0680c",
   "metadata": {
    "ExecuteTime": {
     "end_time": "2023-04-21T20:21:52.486796Z",
     "start_time": "2023-04-21T20:21:52.474827Z"
    }
   },
   "outputs": [
    {
     "data": {
      "text/plain": [
       "(150,)"
      ]
     },
     "execution_count": 136,
     "metadata": {},
     "output_type": "execute_result"
    }
   ],
   "source": [
    "# Готовим датасет:\n",
    "iris = datasets.load_iris()\n",
    "\n",
    "X = iris.data\n",
    "y = iris.target\n",
    "X.shape\n",
    "y.shape"
   ]
  },
  {
   "cell_type": "code",
   "execution_count": 137,
   "id": "1010af48",
   "metadata": {
    "ExecuteTime": {
     "end_time": "2023-04-21T20:21:53.147543Z",
     "start_time": "2023-04-21T20:21:53.138568Z"
    }
   },
   "outputs": [
    {
     "data": {
      "text/plain": [
       "(150, 2)"
      ]
     },
     "execution_count": 137,
     "metadata": {},
     "output_type": "execute_result"
    }
   ],
   "source": [
    "# Готовим редуцированную с применением PCA с 2 главными компонентами:\n",
    "pca = PCA(2)\n",
    "pca.fit(X)\n",
    "X_pca = pca.transform(X)\n",
    "X_pca.shape"
   ]
  },
  {
   "cell_type": "code",
   "execution_count": 138,
   "id": "14d005d8",
   "metadata": {
    "ExecuteTime": {
     "end_time": "2023-04-21T20:21:53.718965Z",
     "start_time": "2023-04-21T20:21:53.602570Z"
    }
   },
   "outputs": [
    {
     "data": {
      "image/png": "[encoded data removed]",
      "text/plain": [
       "<Figure size 432x288 with 1 Axes>"
      ]
     },
     "metadata": {
      "needs_background": "light"
     },
     "output_type": "display_data"
    }
   ],
   "source": [
    "# Теперь можем графически посмотреть датасет после применения PCA (в 2d):\n",
    "plt.figure()\n",
    "y = iris.target\n",
    "for c, i in zip(\"rgb\", [0, 1, 2]):\n",
    "    plt.scatter(X_pca[y==i, 0], X_pca[y==i, 1], c=c)\n",
    "plt.xlabel('Главная компонента 1')\n",
    "plt.ylabel('Главная компонента 2')\n",
    "plt.title('PCA датасета IRIS')\n",
    "plt.show()"
   ]
  },
  {
   "cell_type": "code",
   "execution_count": 139,
   "id": "ece02fee",
   "metadata": {
    "ExecuteTime": {
     "end_time": "2023-04-21T20:21:54.105556Z",
     "start_time": "2023-04-21T20:21:54.098600Z"
    }
   },
   "outputs": [],
   "source": [
    "# Разделяем тренировочные и тестовые выборки:\n",
    "train_X, test_X, train_y, test_y = train_test_split(X, y, test_size=0.3, random_state=42)"
   ]
  },
  {
   "cell_type": "code",
   "execution_count": 140,
   "id": "43551ec1",
   "metadata": {
    "ExecuteTime": {
     "end_time": "2023-04-21T20:21:54.724558Z",
     "start_time": "2023-04-21T20:21:54.714576Z"
    }
   },
   "outputs": [],
   "source": [
    "train_X_pca, test_X_pca, train_y, test_y = train_test_split(X, y, test_size=0.3, random_state=42)"
   ]
  },
  {
   "cell_type": "code",
   "execution_count": 141,
   "id": "1fb26944",
   "metadata": {
    "ExecuteTime": {
     "end_time": "2023-04-21T20:21:55.157565Z",
     "start_time": "2023-04-21T20:21:55.138588Z"
    }
   },
   "outputs": [],
   "source": [
    "# Обучаем модели случайного леса и работаем ими по тестовым выборкам:\n",
    "model = RandomForestClassifier(n_estimators=3)\n",
    "model.fit(train_X, train_y)\n",
    "y_pred = model.predict(test_X)"
   ]
  },
  {
   "cell_type": "code",
   "execution_count": 142,
   "id": "f7c60805",
   "metadata": {
    "ExecuteTime": {
     "end_time": "2023-04-21T20:21:55.562646Z",
     "start_time": "2023-04-21T20:21:55.554667Z"
    }
   },
   "outputs": [],
   "source": [
    "model.fit(train_X_pca, train_y)\n",
    "y_pred_pca = model.predict(test_X_pca)"
   ]
  },
  {
   "cell_type": "code",
   "execution_count": 143,
   "id": "f9731f62",
   "metadata": {
    "ExecuteTime": {
     "end_time": "2023-04-21T20:21:55.964190Z",
     "start_time": "2023-04-21T20:21:55.954220Z"
    }
   },
   "outputs": [],
   "source": [
    "# Вычисляем f1-score для исходного датасета и для датасета с применением PCA:\n",
    "f1 = f1_score(test_y, y_pred, average='weighted')\n",
    "f1_pca = f1_score(test_y, y_pred_pca, average='weighted')"
   ]
  },
  {
   "cell_type": "code",
   "execution_count": 144,
   "id": "a3af3be5",
   "metadata": {
    "ExecuteTime": {
     "end_time": "2023-04-21T20:21:56.396551Z",
     "start_time": "2023-04-21T20:21:56.378622Z"
    }
   },
   "outputs": [
    {
     "name": "stdout",
     "output_type": "stream",
     "text": [
      "f1-score для исходного датасета: 1.0, f1-score для датасета с примененным PCA: 1.0\n"
     ]
    }
   ],
   "source": [
    "print(f'f1-score для исходного датасета: {f1}, f1-score для датасета с примененным PCA: {f1_pca}')"
   ]
  },
  {
   "cell_type": "markdown",
   "id": "2d504e34",
   "metadata": {
    "ExecuteTime": {
     "end_time": "2023-04-21T19:41:56.078796Z",
     "start_time": "2023-04-21T19:41:56.062839Z"
    }
   },
   "source": [
    "*Вывод: При применении для датасета iris модели случайного леса с кол-вом деревьев 3, предварительное применение PCA на отложенной выборке несколько повышает качество классификации. При бОльшем кол-ве деревьев это преимущество нивелируется.* "
   ]
  },
  {
   "cell_type": "markdown",
   "id": "24fbbf5c",
   "metadata": {},
   "source": [
    "#### Задача 2\n",
    "Напишите свою реализацию метода главных компонент посредством сингулярного разложения с использованием функции numpy.linalg.svd()"
   ]
  },
  {
   "cell_type": "code",
   "execution_count": 145,
   "id": "5fe4f647",
   "metadata": {
    "ExecuteTime": {
     "end_time": "2023-04-21T20:21:58.049578Z",
     "start_time": "2023-04-21T20:21:58.042572Z"
    }
   },
   "outputs": [],
   "source": [
    "def pca(X, n_components):\n",
    "    X = X - np.mean(X, axis=0)\n",
    "    cov_matrix = np.cov(X.T)\n",
    "    U, S, V = np.linalg.svd(cov_matrix)\n",
    "    ind = np.argsort(-S)\n",
    "    U = U[:, ind]\n",
    "    S = S[ind]\n",
    "    U_imp = U[:, :n_components]\n",
    "    return X @ U_imp"
   ]
  },
  {
   "cell_type": "code",
   "execution_count": 146,
   "id": "e5e30231",
   "metadata": {
    "ExecuteTime": {
     "end_time": "2023-04-21T20:21:58.498824Z",
     "start_time": "2023-04-21T20:21:58.490846Z"
    }
   },
   "outputs": [],
   "source": [
    "X_pca_2 = pca(X, 2)"
   ]
  },
  {
   "cell_type": "code",
   "execution_count": null,
   "id": "dc3c4eb3",
   "metadata": {
    "ExecuteTime": {
     "start_time": "2023-04-21T20:22:32.257Z"
    }
   },
   "outputs": [],
   "source": [
    "plt.figure()\n",
    "y = iris.target\n",
    "for c, i in zip(\"rgb\", [0, 1, 2]):\n",
    "    plt.scatter(X_pca_2[y==i, 0], X_pca_2[y==i, 1], c=c)\n",
    "plt.xlabel('Главная компонента 1')\n",
    "plt.ylabel('Главная компонента 2')\n",
    "plt.title('PCA датасета IRIS')\n",
    "plt.show()"
   ]
  },
  {
   "cell_type": "code",
   "execution_count": null,
   "id": "c8a25460",
   "metadata": {},
   "outputs": [],
   "source": []
  }
 ],
 "metadata": {
  "kernelspec": {
   "display_name": "Python 3 (ipykernel)",
   "language": "python",
   "name": "python3"
  },
  "language_info": {
   "codemirror_mode": {
    "name": "ipython",
    "version": 3
   },
   "file_extension": ".py",
   "mimetype": "text/x-python",
   "name": "python",
   "nbconvert_exporter": "python",
   "pygments_lexer": "ipython3",
   "version": "3.9.12"
  },
  "varInspector": {
   "cols": {
    "lenName": 16,
    "lenType": 16,
    "lenVar": 40
   },
   "kernels_config": {
    "python": {
     "delete_cmd_postfix": "",
     "delete_cmd_prefix": "del ",
     "library": "var_list.py",
     "varRefreshCmd": "print(var_dic_list())"
    },
    "r": {
     "delete_cmd_postfix": ") ",
     "delete_cmd_prefix": "rm(",
     "library": "var_list.r",
     "varRefreshCmd": "cat(var_dic_list()) "
    }
   },
   "types_to_exclude": [
    "module",
    "function",
    "builtin_function_or_method",
    "instance",
    "_Feature"
   ],
   "window_display": false
  }
 },
 "nbformat": 4,
 "nbformat_minor": 5
}
