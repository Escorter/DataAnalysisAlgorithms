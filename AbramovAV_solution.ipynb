{
 "cells": [
  {
   "cell_type": "markdown",
   "id": "baff4bf2",
   "metadata": {},
   "source": [
    "## Курсовой проект по курсу \"Библиотеки Python для Data Science: продолжение\"\n",
    "### студент Абрамов А.В."
   ]
  },
  {
   "cell_type": "code",
   "execution_count": 162,
   "id": "e4a23651",
   "metadata": {
    "ExecuteTime": {
     "end_time": "2023-04-27T15:02:00.741460Z",
     "start_time": "2023-04-27T15:02:00.721479Z"
    }
   },
   "outputs": [],
   "source": [
    "# Импортируем необходимые библиотеки:\n",
    "import pandas as pd\n",
    "import numpy as np\n",
    "import seaborn as sns\n",
    "from sklearn.preprocessing import LabelEncoder\n",
    "from sklearn.model_selection import train_test_split\n",
    "from sklearn.ensemble import RandomForestClassifier\n",
    "from sklearn import metrics\n",
    "import matplotlib.pyplot as plt\n",
    "import random\n",
    "\n",
    "%matplotlib inline"
   ]
  },
  {
   "cell_type": "code",
   "execution_count": 163,
   "id": "dcbd424b",
   "metadata": {
    "ExecuteTime": {
     "end_time": "2023-04-27T15:02:03.764769Z",
     "start_time": "2023-04-27T15:02:03.737396Z"
    }
   },
   "outputs": [],
   "source": [
    "# Формируем датафреймы:\n",
    "train = pd.read_csv('course_project_train.csv')\n",
    "test = pd.read_csv('course_project_test.csv')"
   ]
  },
  {
   "cell_type": "code",
   "execution_count": 164,
   "id": "dab3e25f",
   "metadata": {
    "ExecuteTime": {
     "end_time": "2023-04-27T15:02:04.244245Z",
     "start_time": "2023-04-27T15:02:04.233273Z"
    }
   },
   "outputs": [
    {
     "data": {
      "text/plain": [
       "(7500, 17)"
      ]
     },
     "execution_count": 164,
     "metadata": {},
     "output_type": "execute_result"
    }
   ],
   "source": [
    "train.shape"
   ]
  },
  {
   "cell_type": "code",
   "execution_count": 165,
   "id": "6e32ebfc",
   "metadata": {
    "ExecuteTime": {
     "end_time": "2023-04-27T15:02:04.723455Z",
     "start_time": "2023-04-27T15:02:04.704506Z"
    }
   },
   "outputs": [
    {
     "data": {
      "text/plain": [
       "(2500, 16)"
      ]
     },
     "execution_count": 165,
     "metadata": {},
     "output_type": "execute_result"
    }
   ],
   "source": [
    "test.shape"
   ]
  },
  {
   "cell_type": "code",
   "execution_count": 166,
   "id": "86f72426",
   "metadata": {
    "ExecuteTime": {
     "end_time": "2023-04-27T15:02:05.082229Z",
     "start_time": "2023-04-27T15:02:05.064303Z"
    }
   },
   "outputs": [
    {
     "name": "stdout",
     "output_type": "stream",
     "text": [
      "<class 'pandas.core.frame.DataFrame'>\n",
      "RangeIndex: 7500 entries, 0 to 7499\n",
      "Data columns (total 17 columns):\n",
      " #   Column                        Non-Null Count  Dtype  \n",
      "---  ------                        --------------  -----  \n",
      " 0   Home Ownership                7500 non-null   object \n",
      " 1   Annual Income                 5943 non-null   float64\n",
      " 2   Years in current job          7129 non-null   object \n",
      " 3   Tax Liens                     7500 non-null   float64\n",
      " 4   Number of Open Accounts       7500 non-null   float64\n",
      " 5   Years of Credit History       7500 non-null   float64\n",
      " 6   Maximum Open Credit           7500 non-null   float64\n",
      " 7   Number of Credit Problems     7500 non-null   float64\n",
      " 8   Months since last delinquent  3419 non-null   float64\n",
      " 9   Bankruptcies                  7486 non-null   float64\n",
      " 10  Purpose                       7500 non-null   object \n",
      " 11  Term                          7500 non-null   object \n",
      " 12  Current Loan Amount           7500 non-null   float64\n",
      " 13  Current Credit Balance        7500 non-null   float64\n",
      " 14  Monthly Debt                  7500 non-null   float64\n",
      " 15  Credit Score                  5943 non-null   float64\n",
      " 16  Credit Default                7500 non-null   int64  \n",
      "dtypes: float64(12), int64(1), object(4)\n",
      "memory usage: 996.2+ KB\n"
     ]
    }
   ],
   "source": [
    "train.info()"
   ]
  },
  {
   "cell_type": "markdown",
   "id": "b9d71047",
   "metadata": {},
   "source": [
    "*Замечаем, что признак Months since last delinquent в более половины строк имеет значение NaN => его можно дропнуть. Что касается других признаков, имеющих значения NaN, то проверим их корреляцию с близкими признаками. В случае высокой взаимной корреляции с каким-либо из них, признаки можно дропнуть. Иначе - заменить NaN на медианное значение*"
   ]
  },
  {
   "cell_type": "code",
   "execution_count": 167,
   "id": "ed00a289",
   "metadata": {
    "ExecuteTime": {
     "end_time": "2023-04-27T15:02:05.715813Z",
     "start_time": "2023-04-27T15:02:05.704278Z"
    }
   },
   "outputs": [],
   "source": [
    "train.drop(['Months since last delinquent'], axis=1, inplace=True)\n",
    "test.drop(['Months since last delinquent'], axis=1, inplace=True)"
   ]
  },
  {
   "cell_type": "code",
   "execution_count": 168,
   "id": "d49da793",
   "metadata": {
    "ExecuteTime": {
     "end_time": "2023-04-27T15:02:06.088796Z",
     "start_time": "2023-04-27T15:02:06.072838Z"
    }
   },
   "outputs": [
    {
     "data": {
      "text/html": [
       "<div>\n",
       "<style scoped>\n",
       "    .dataframe tbody tr th:only-of-type {\n",
       "        vertical-align: middle;\n",
       "    }\n",
       "\n",
       "    .dataframe tbody tr th {\n",
       "        vertical-align: top;\n",
       "    }\n",
       "\n",
       "    .dataframe thead th {\n",
       "        text-align: right;\n",
       "    }\n",
       "</style>\n",
       "<table border=\"1\" class=\"dataframe\">\n",
       "  <thead>\n",
       "    <tr style=\"text-align: right;\">\n",
       "      <th></th>\n",
       "      <th>Home Ownership</th>\n",
       "      <th>Annual Income</th>\n",
       "      <th>Years in current job</th>\n",
       "      <th>Tax Liens</th>\n",
       "      <th>Number of Open Accounts</th>\n",
       "      <th>Years of Credit History</th>\n",
       "      <th>Maximum Open Credit</th>\n",
       "      <th>Number of Credit Problems</th>\n",
       "      <th>Bankruptcies</th>\n",
       "      <th>Purpose</th>\n",
       "      <th>Term</th>\n",
       "      <th>Current Loan Amount</th>\n",
       "      <th>Current Credit Balance</th>\n",
       "      <th>Monthly Debt</th>\n",
       "      <th>Credit Score</th>\n",
       "      <th>Credit Default</th>\n",
       "    </tr>\n",
       "  </thead>\n",
       "  <tbody>\n",
       "    <tr>\n",
       "      <th>0</th>\n",
       "      <td>Own Home</td>\n",
       "      <td>482087.0</td>\n",
       "      <td>NaN</td>\n",
       "      <td>0.0</td>\n",
       "      <td>11.0</td>\n",
       "      <td>26.3</td>\n",
       "      <td>685960.0</td>\n",
       "      <td>1.0</td>\n",
       "      <td>1.0</td>\n",
       "      <td>debt consolidation</td>\n",
       "      <td>Short Term</td>\n",
       "      <td>99999999.0</td>\n",
       "      <td>47386.0</td>\n",
       "      <td>7914.0</td>\n",
       "      <td>749.0</td>\n",
       "      <td>0</td>\n",
       "    </tr>\n",
       "    <tr>\n",
       "      <th>1</th>\n",
       "      <td>Own Home</td>\n",
       "      <td>1025487.0</td>\n",
       "      <td>10+ years</td>\n",
       "      <td>0.0</td>\n",
       "      <td>15.0</td>\n",
       "      <td>15.3</td>\n",
       "      <td>1181730.0</td>\n",
       "      <td>0.0</td>\n",
       "      <td>0.0</td>\n",
       "      <td>debt consolidation</td>\n",
       "      <td>Long Term</td>\n",
       "      <td>264968.0</td>\n",
       "      <td>394972.0</td>\n",
       "      <td>18373.0</td>\n",
       "      <td>737.0</td>\n",
       "      <td>1</td>\n",
       "    </tr>\n",
       "    <tr>\n",
       "      <th>2</th>\n",
       "      <td>Home Mortgage</td>\n",
       "      <td>751412.0</td>\n",
       "      <td>8 years</td>\n",
       "      <td>0.0</td>\n",
       "      <td>11.0</td>\n",
       "      <td>35.0</td>\n",
       "      <td>1182434.0</td>\n",
       "      <td>0.0</td>\n",
       "      <td>0.0</td>\n",
       "      <td>debt consolidation</td>\n",
       "      <td>Short Term</td>\n",
       "      <td>99999999.0</td>\n",
       "      <td>308389.0</td>\n",
       "      <td>13651.0</td>\n",
       "      <td>742.0</td>\n",
       "      <td>0</td>\n",
       "    </tr>\n",
       "  </tbody>\n",
       "</table>\n",
       "</div>"
      ],
      "text/plain": [
       "  Home Ownership  Annual Income Years in current job  Tax Liens  \\\n",
       "0       Own Home       482087.0                  NaN        0.0   \n",
       "1       Own Home      1025487.0            10+ years        0.0   \n",
       "2  Home Mortgage       751412.0              8 years        0.0   \n",
       "\n",
       "   Number of Open Accounts  Years of Credit History  Maximum Open Credit  \\\n",
       "0                     11.0                     26.3             685960.0   \n",
       "1                     15.0                     15.3            1181730.0   \n",
       "2                     11.0                     35.0            1182434.0   \n",
       "\n",
       "   Number of Credit Problems  Bankruptcies             Purpose        Term  \\\n",
       "0                        1.0           1.0  debt consolidation  Short Term   \n",
       "1                        0.0           0.0  debt consolidation   Long Term   \n",
       "2                        0.0           0.0  debt consolidation  Short Term   \n",
       "\n",
       "   Current Loan Amount  Current Credit Balance  Monthly Debt  Credit Score  \\\n",
       "0           99999999.0                 47386.0        7914.0         749.0   \n",
       "1             264968.0                394972.0       18373.0         737.0   \n",
       "2           99999999.0                308389.0       13651.0         742.0   \n",
       "\n",
       "   Credit Default  \n",
       "0               0  \n",
       "1               1  \n",
       "2               0  "
      ]
     },
     "execution_count": 168,
     "metadata": {},
     "output_type": "execute_result"
    }
   ],
   "source": [
    "train.head(3)"
   ]
  },
  {
   "cell_type": "code",
   "execution_count": 169,
   "id": "d97efbe6",
   "metadata": {
    "ExecuteTime": {
     "end_time": "2023-04-27T15:02:06.413489Z",
     "start_time": "2023-04-27T15:02:06.400523Z"
    }
   },
   "outputs": [
    {
     "data": {
      "text/html": [
       "<div>\n",
       "<style scoped>\n",
       "    .dataframe tbody tr th:only-of-type {\n",
       "        vertical-align: middle;\n",
       "    }\n",
       "\n",
       "    .dataframe tbody tr th {\n",
       "        vertical-align: top;\n",
       "    }\n",
       "\n",
       "    .dataframe thead th {\n",
       "        text-align: right;\n",
       "    }\n",
       "</style>\n",
       "<table border=\"1\" class=\"dataframe\">\n",
       "  <thead>\n",
       "    <tr style=\"text-align: right;\">\n",
       "      <th></th>\n",
       "      <th>Home Ownership</th>\n",
       "      <th>Annual Income</th>\n",
       "      <th>Years in current job</th>\n",
       "      <th>Tax Liens</th>\n",
       "      <th>Number of Open Accounts</th>\n",
       "      <th>Years of Credit History</th>\n",
       "      <th>Maximum Open Credit</th>\n",
       "      <th>Number of Credit Problems</th>\n",
       "      <th>Bankruptcies</th>\n",
       "      <th>Purpose</th>\n",
       "      <th>Term</th>\n",
       "      <th>Current Loan Amount</th>\n",
       "      <th>Current Credit Balance</th>\n",
       "      <th>Monthly Debt</th>\n",
       "      <th>Credit Score</th>\n",
       "    </tr>\n",
       "  </thead>\n",
       "  <tbody>\n",
       "    <tr>\n",
       "      <th>0</th>\n",
       "      <td>Rent</td>\n",
       "      <td>NaN</td>\n",
       "      <td>4 years</td>\n",
       "      <td>0.0</td>\n",
       "      <td>9.0</td>\n",
       "      <td>12.5</td>\n",
       "      <td>220968.0</td>\n",
       "      <td>0.0</td>\n",
       "      <td>0.0</td>\n",
       "      <td>debt consolidation</td>\n",
       "      <td>Short Term</td>\n",
       "      <td>162470.0</td>\n",
       "      <td>105906.0</td>\n",
       "      <td>6813.0</td>\n",
       "      <td>NaN</td>\n",
       "    </tr>\n",
       "    <tr>\n",
       "      <th>1</th>\n",
       "      <td>Rent</td>\n",
       "      <td>231838.0</td>\n",
       "      <td>1 year</td>\n",
       "      <td>0.0</td>\n",
       "      <td>6.0</td>\n",
       "      <td>32.7</td>\n",
       "      <td>55946.0</td>\n",
       "      <td>0.0</td>\n",
       "      <td>0.0</td>\n",
       "      <td>educational expenses</td>\n",
       "      <td>Short Term</td>\n",
       "      <td>78298.0</td>\n",
       "      <td>46037.0</td>\n",
       "      <td>2318.0</td>\n",
       "      <td>699.0</td>\n",
       "    </tr>\n",
       "    <tr>\n",
       "      <th>2</th>\n",
       "      <td>Home Mortgage</td>\n",
       "      <td>1152540.0</td>\n",
       "      <td>3 years</td>\n",
       "      <td>0.0</td>\n",
       "      <td>10.0</td>\n",
       "      <td>13.7</td>\n",
       "      <td>204600.0</td>\n",
       "      <td>0.0</td>\n",
       "      <td>0.0</td>\n",
       "      <td>debt consolidation</td>\n",
       "      <td>Short Term</td>\n",
       "      <td>200178.0</td>\n",
       "      <td>146490.0</td>\n",
       "      <td>18729.0</td>\n",
       "      <td>7260.0</td>\n",
       "    </tr>\n",
       "  </tbody>\n",
       "</table>\n",
       "</div>"
      ],
      "text/plain": [
       "  Home Ownership  Annual Income Years in current job  Tax Liens  \\\n",
       "0           Rent            NaN              4 years        0.0   \n",
       "1           Rent       231838.0               1 year        0.0   \n",
       "2  Home Mortgage      1152540.0              3 years        0.0   \n",
       "\n",
       "   Number of Open Accounts  Years of Credit History  Maximum Open Credit  \\\n",
       "0                      9.0                     12.5             220968.0   \n",
       "1                      6.0                     32.7              55946.0   \n",
       "2                     10.0                     13.7             204600.0   \n",
       "\n",
       "   Number of Credit Problems  Bankruptcies               Purpose        Term  \\\n",
       "0                        0.0           0.0    debt consolidation  Short Term   \n",
       "1                        0.0           0.0  educational expenses  Short Term   \n",
       "2                        0.0           0.0    debt consolidation  Short Term   \n",
       "\n",
       "   Current Loan Amount  Current Credit Balance  Monthly Debt  Credit Score  \n",
       "0             162470.0                105906.0        6813.0           NaN  \n",
       "1              78298.0                 46037.0        2318.0         699.0  \n",
       "2             200178.0                146490.0       18729.0        7260.0  "
      ]
     },
     "execution_count": 169,
     "metadata": {},
     "output_type": "execute_result"
    }
   ],
   "source": [
    "test.head(3)"
   ]
  },
  {
   "cell_type": "code",
   "execution_count": 170,
   "id": "5f41f818",
   "metadata": {
    "ExecuteTime": {
     "end_time": "2023-04-27T15:02:07.429807Z",
     "start_time": "2023-04-27T15:02:06.865607Z"
    }
   },
   "outputs": [
    {
     "data": {
      "image/png": "[encoded data removed]",
      "text/plain": [
       "<Figure size 720x576 with 2 Axes>"
      ]
     },
     "metadata": {
      "needs_background": "light"
     },
     "output_type": "display_data"
    }
   ],
   "source": [
    "# Построим тепловую карту таблицы корелляции числовых признаков\n",
    "\n",
    "plt.figure(figsize=(10, 8))\n",
    "sns.heatmap(train.corr(), annot=True, linewidths=0.5, cmap='GnBu')\n",
    "plt.show()"
   ]
  },
  {
   "cell_type": "markdown",
   "id": "f43afde1",
   "metadata": {},
   "source": [
    "*Признак Annual Income, имеющий 20% значений NaN, особо ни с каким другим не коррелирует, но он важен, и поэтому значения NaN заменим на медианное значение. Заметим, что признак Credit Score имеет значения NaN в тех же самых случаях, что и признак Annual Income, однако больше коррелирует с целевой переменной. Значения NaN признака Credit Score также заменим на медианное значение*"
   ]
  },
  {
   "cell_type": "code",
   "execution_count": 171,
   "id": "1a511f2d",
   "metadata": {
    "ExecuteTime": {
     "end_time": "2023-04-27T15:02:07.738234Z",
     "start_time": "2023-04-27T15:02:07.720307Z"
    }
   },
   "outputs": [],
   "source": [
    "train.fillna(train['Annual Income'].median(), inplace=True)\n",
    "train.fillna(train['Credit Score'].median(), inplace=True)\n",
    "test.fillna(train['Annual Income'].median(), inplace=True)\n",
    "test.fillna(train['Credit Score'].median(), inplace=True)"
   ]
  },
  {
   "cell_type": "code",
   "execution_count": 172,
   "id": "fd4896f9",
   "metadata": {
    "ExecuteTime": {
     "end_time": "2023-04-27T15:02:08.325922Z",
     "start_time": "2023-04-27T15:02:08.297172Z"
    }
   },
   "outputs": [
    {
     "data": {
      "text/html": [
       "<div>\n",
       "<style scoped>\n",
       "    .dataframe tbody tr th:only-of-type {\n",
       "        vertical-align: middle;\n",
       "    }\n",
       "\n",
       "    .dataframe tbody tr th {\n",
       "        vertical-align: top;\n",
       "    }\n",
       "\n",
       "    .dataframe thead th {\n",
       "        text-align: right;\n",
       "    }\n",
       "</style>\n",
       "<table border=\"1\" class=\"dataframe\">\n",
       "  <thead>\n",
       "    <tr style=\"text-align: right;\">\n",
       "      <th></th>\n",
       "      <th>Annual Income</th>\n",
       "      <th>Tax Liens</th>\n",
       "      <th>Number of Open Accounts</th>\n",
       "      <th>Years of Credit History</th>\n",
       "      <th>Maximum Open Credit</th>\n",
       "      <th>Number of Credit Problems</th>\n",
       "      <th>Bankruptcies</th>\n",
       "      <th>Current Loan Amount</th>\n",
       "      <th>Current Credit Balance</th>\n",
       "      <th>Monthly Debt</th>\n",
       "      <th>Credit Score</th>\n",
       "      <th>Credit Default</th>\n",
       "    </tr>\n",
       "  </thead>\n",
       "  <tbody>\n",
       "    <tr>\n",
       "      <th>count</th>\n",
       "      <td>7.500000e+03</td>\n",
       "      <td>7500.000000</td>\n",
       "      <td>7500.000000</td>\n",
       "      <td>7500.000000</td>\n",
       "      <td>7.500000e+03</td>\n",
       "      <td>7500.000000</td>\n",
       "      <td>7.500000e+03</td>\n",
       "      <td>7.500000e+03</td>\n",
       "      <td>7.500000e+03</td>\n",
       "      <td>7500.000000</td>\n",
       "      <td>7.500000e+03</td>\n",
       "      <td>7500.000000</td>\n",
       "    </tr>\n",
       "    <tr>\n",
       "      <th>mean</th>\n",
       "      <td>1.325286e+06</td>\n",
       "      <td>0.030133</td>\n",
       "      <td>11.130933</td>\n",
       "      <td>18.317467</td>\n",
       "      <td>9.451537e+05</td>\n",
       "      <td>0.170000</td>\n",
       "      <td>2.181104e+03</td>\n",
       "      <td>1.187318e+07</td>\n",
       "      <td>2.898332e+05</td>\n",
       "      <td>18314.454133</td>\n",
       "      <td>2.434691e+05</td>\n",
       "      <td>0.281733</td>\n",
       "    </tr>\n",
       "    <tr>\n",
       "      <th>std</th>\n",
       "      <td>7.567551e+05</td>\n",
       "      <td>0.271604</td>\n",
       "      <td>4.908924</td>\n",
       "      <td>7.041946</td>\n",
       "      <td>1.602622e+07</td>\n",
       "      <td>0.498598</td>\n",
       "      <td>5.043627e+04</td>\n",
       "      <td>3.192612e+07</td>\n",
       "      <td>3.178714e+05</td>\n",
       "      <td>11926.764673</td>\n",
       "      <td>4.734511e+05</td>\n",
       "      <td>0.449874</td>\n",
       "    </tr>\n",
       "    <tr>\n",
       "      <th>min</th>\n",
       "      <td>1.645970e+05</td>\n",
       "      <td>0.000000</td>\n",
       "      <td>2.000000</td>\n",
       "      <td>4.000000</td>\n",
       "      <td>0.000000e+00</td>\n",
       "      <td>0.000000</td>\n",
       "      <td>0.000000e+00</td>\n",
       "      <td>1.124200e+04</td>\n",
       "      <td>0.000000e+00</td>\n",
       "      <td>0.000000</td>\n",
       "      <td>5.850000e+02</td>\n",
       "      <td>0.000000</td>\n",
       "    </tr>\n",
       "    <tr>\n",
       "      <th>25%</th>\n",
       "      <td>9.311330e+05</td>\n",
       "      <td>0.000000</td>\n",
       "      <td>8.000000</td>\n",
       "      <td>13.500000</td>\n",
       "      <td>2.792295e+05</td>\n",
       "      <td>0.000000</td>\n",
       "      <td>0.000000e+00</td>\n",
       "      <td>1.801690e+05</td>\n",
       "      <td>1.142565e+05</td>\n",
       "      <td>10067.500000</td>\n",
       "      <td>7.180000e+02</td>\n",
       "      <td>0.000000</td>\n",
       "    </tr>\n",
       "    <tr>\n",
       "      <th>50%</th>\n",
       "      <td>1.168386e+06</td>\n",
       "      <td>0.000000</td>\n",
       "      <td>10.000000</td>\n",
       "      <td>17.000000</td>\n",
       "      <td>4.781590e+05</td>\n",
       "      <td>0.000000</td>\n",
       "      <td>0.000000e+00</td>\n",
       "      <td>3.095730e+05</td>\n",
       "      <td>2.093230e+05</td>\n",
       "      <td>16076.500000</td>\n",
       "      <td>7.380000e+02</td>\n",
       "      <td>0.000000</td>\n",
       "    </tr>\n",
       "    <tr>\n",
       "      <th>75%</th>\n",
       "      <td>1.499974e+06</td>\n",
       "      <td>0.000000</td>\n",
       "      <td>14.000000</td>\n",
       "      <td>21.800000</td>\n",
       "      <td>7.935015e+05</td>\n",
       "      <td>0.000000</td>\n",
       "      <td>0.000000e+00</td>\n",
       "      <td>5.198820e+05</td>\n",
       "      <td>3.604062e+05</td>\n",
       "      <td>23818.000000</td>\n",
       "      <td>6.930000e+03</td>\n",
       "      <td>1.000000</td>\n",
       "    </tr>\n",
       "    <tr>\n",
       "      <th>max</th>\n",
       "      <td>1.014934e+07</td>\n",
       "      <td>7.000000</td>\n",
       "      <td>43.000000</td>\n",
       "      <td>57.700000</td>\n",
       "      <td>1.304726e+09</td>\n",
       "      <td>7.000000</td>\n",
       "      <td>1.168386e+06</td>\n",
       "      <td>1.000000e+08</td>\n",
       "      <td>6.506797e+06</td>\n",
       "      <td>136679.000000</td>\n",
       "      <td>1.168386e+06</td>\n",
       "      <td>1.000000</td>\n",
       "    </tr>\n",
       "  </tbody>\n",
       "</table>\n",
       "</div>"
      ],
      "text/plain": [
       "       Annual Income    Tax Liens  Number of Open Accounts  \\\n",
       "count   7.500000e+03  7500.000000              7500.000000   \n",
       "mean    1.325286e+06     0.030133                11.130933   \n",
       "std     7.567551e+05     0.271604                 4.908924   \n",
       "min     1.645970e+05     0.000000                 2.000000   \n",
       "25%     9.311330e+05     0.000000                 8.000000   \n",
       "50%     1.168386e+06     0.000000                10.000000   \n",
       "75%     1.499974e+06     0.000000                14.000000   \n",
       "max     1.014934e+07     7.000000                43.000000   \n",
       "\n",
       "       Years of Credit History  Maximum Open Credit  \\\n",
       "count              7500.000000         7.500000e+03   \n",
       "mean                 18.317467         9.451537e+05   \n",
       "std                   7.041946         1.602622e+07   \n",
       "min                   4.000000         0.000000e+00   \n",
       "25%                  13.500000         2.792295e+05   \n",
       "50%                  17.000000         4.781590e+05   \n",
       "75%                  21.800000         7.935015e+05   \n",
       "max                  57.700000         1.304726e+09   \n",
       "\n",
       "       Number of Credit Problems  Bankruptcies  Current Loan Amount  \\\n",
       "count                7500.000000  7.500000e+03         7.500000e+03   \n",
       "mean                    0.170000  2.181104e+03         1.187318e+07   \n",
       "std                     0.498598  5.043627e+04         3.192612e+07   \n",
       "min                     0.000000  0.000000e+00         1.124200e+04   \n",
       "25%                     0.000000  0.000000e+00         1.801690e+05   \n",
       "50%                     0.000000  0.000000e+00         3.095730e+05   \n",
       "75%                     0.000000  0.000000e+00         5.198820e+05   \n",
       "max                     7.000000  1.168386e+06         1.000000e+08   \n",
       "\n",
       "       Current Credit Balance   Monthly Debt  Credit Score  Credit Default  \n",
       "count            7.500000e+03    7500.000000  7.500000e+03     7500.000000  \n",
       "mean             2.898332e+05   18314.454133  2.434691e+05        0.281733  \n",
       "std              3.178714e+05   11926.764673  4.734511e+05        0.449874  \n",
       "min              0.000000e+00       0.000000  5.850000e+02        0.000000  \n",
       "25%              1.142565e+05   10067.500000  7.180000e+02        0.000000  \n",
       "50%              2.093230e+05   16076.500000  7.380000e+02        0.000000  \n",
       "75%              3.604062e+05   23818.000000  6.930000e+03        1.000000  \n",
       "max              6.506797e+06  136679.000000  1.168386e+06        1.000000  "
      ]
     },
     "execution_count": 172,
     "metadata": {},
     "output_type": "execute_result"
    }
   ],
   "source": [
    "train.describe()"
   ]
  },
  {
   "cell_type": "markdown",
   "id": "65afb5b0",
   "metadata": {},
   "source": [
    "*Просмотрим какие значения и как часто встречаются в категориальных признаках: Years in current job, Home Ownership, Purpose, Term*"
   ]
  },
  {
   "cell_type": "code",
   "execution_count": 173,
   "id": "b2ce450d",
   "metadata": {
    "ExecuteTime": {
     "end_time": "2023-04-27T15:02:09.455106Z",
     "start_time": "2023-04-27T15:02:09.441170Z"
    }
   },
   "outputs": [
    {
     "data": {
      "text/plain": [
       "10+ years    2332\n",
       "2 years       705\n",
       "3 years       620\n",
       "< 1 year      563\n",
       "5 years       516\n",
       "1 year        504\n",
       "4 years       469\n",
       "6 years       426\n",
       "7 years       396\n",
       "1168386.0     371\n",
       "8 years       339\n",
       "9 years       259\n",
       "Name: Years in current job, dtype: int64"
      ]
     },
     "execution_count": 173,
     "metadata": {},
     "output_type": "execute_result"
    }
   ],
   "source": [
    "train['Years in current job'].value_counts() # этот признак следует дропнуть!"
   ]
  },
  {
   "cell_type": "code",
   "execution_count": 174,
   "id": "0ea391dc",
   "metadata": {
    "ExecuteTime": {
     "end_time": "2023-04-27T15:02:10.054938Z",
     "start_time": "2023-04-27T15:02:10.040974Z"
    }
   },
   "outputs": [],
   "source": [
    "train.drop(['Years in current job'], axis=1, inplace=True)\n",
    "test.drop(['Years in current job'], axis=1, inplace=True)"
   ]
  },
  {
   "cell_type": "code",
   "execution_count": 175,
   "id": "2e8865e6",
   "metadata": {
    "ExecuteTime": {
     "end_time": "2023-04-27T15:02:10.610229Z",
     "start_time": "2023-04-27T15:02:10.593274Z"
    }
   },
   "outputs": [
    {
     "data": {
      "text/plain": [
       "Home Mortgage    3637\n",
       "Rent             3204\n",
       "Own Home          647\n",
       "Have Mortgage      12\n",
       "Name: Home Ownership, dtype: int64"
      ]
     },
     "execution_count": 175,
     "metadata": {},
     "output_type": "execute_result"
    }
   ],
   "source": [
    "train['Home Ownership'].value_counts() # можно кодировать"
   ]
  },
  {
   "cell_type": "code",
   "execution_count": 176,
   "id": "62f1d102",
   "metadata": {
    "ExecuteTime": {
     "end_time": "2023-04-27T15:02:11.106002Z",
     "start_time": "2023-04-27T15:02:11.097026Z"
    }
   },
   "outputs": [
    {
     "data": {
      "text/plain": [
       "debt consolidation      5944\n",
       "other                    665\n",
       "home improvements        412\n",
       "business loan            129\n",
       "buy a car                 96\n",
       "medical bills             71\n",
       "major purchase            40\n",
       "take a trip               37\n",
       "buy house                 34\n",
       "small business            26\n",
       "wedding                   15\n",
       "moving                    11\n",
       "educational expenses      10\n",
       "vacation                   8\n",
       "renewable energy           2\n",
       "Name: Purpose, dtype: int64"
      ]
     },
     "execution_count": 176,
     "metadata": {},
     "output_type": "execute_result"
    }
   ],
   "source": [
    "train['Purpose'].value_counts() # можно кодировать"
   ]
  },
  {
   "cell_type": "code",
   "execution_count": 177,
   "id": "cfdb7294",
   "metadata": {
    "ExecuteTime": {
     "end_time": "2023-04-27T15:02:11.627398Z",
     "start_time": "2023-04-27T15:02:11.608473Z"
    }
   },
   "outputs": [
    {
     "data": {
      "text/plain": [
       "Short Term    5556\n",
       "Long Term     1944\n",
       "Name: Term, dtype: int64"
      ]
     },
     "execution_count": 177,
     "metadata": {},
     "output_type": "execute_result"
    }
   ],
   "source": [
    "train['Term'].value_counts() # тоже можно кодировать"
   ]
  },
  {
   "cell_type": "code",
   "execution_count": 178,
   "id": "bef6f1f3",
   "metadata": {
    "ExecuteTime": {
     "end_time": "2023-04-27T15:02:12.153227Z",
     "start_time": "2023-04-27T15:02:12.136553Z"
    }
   },
   "outputs": [],
   "source": [
    "le = LabelEncoder() # кодируем эти признаки!"
   ]
  },
  {
   "cell_type": "code",
   "execution_count": 179,
   "id": "264501fd",
   "metadata": {
    "ExecuteTime": {
     "end_time": "2023-04-27T15:02:12.584262Z",
     "start_time": "2023-04-27T15:02:12.576309Z"
    }
   },
   "outputs": [],
   "source": [
    "le.fit(train['Home Ownership'])\n",
    "train['Home Ownership'] = le.transform(train['Home Ownership'])\n",
    "test['Home Ownership'] = le.transform(test['Home Ownership'])"
   ]
  },
  {
   "cell_type": "code",
   "execution_count": 180,
   "id": "ce381645",
   "metadata": {
    "ExecuteTime": {
     "end_time": "2023-04-27T15:02:13.047103Z",
     "start_time": "2023-04-27T15:02:13.033139Z"
    }
   },
   "outputs": [],
   "source": [
    "le.fit(train['Purpose'])\n",
    "train['Purpose'] = le.transform(train['Purpose'])\n",
    "test['Purpose'] = le.transform(test['Purpose'])"
   ]
  },
  {
   "cell_type": "code",
   "execution_count": 181,
   "id": "f82c4353",
   "metadata": {
    "ExecuteTime": {
     "end_time": "2023-04-27T15:02:13.496236Z",
     "start_time": "2023-04-27T15:02:13.488282Z"
    }
   },
   "outputs": [],
   "source": [
    "le.fit(train['Term'])\n",
    "train['Term'] = le.transform(train['Term'])\n",
    "test['Term'] = le.transform(test['Term'])"
   ]
  },
  {
   "cell_type": "code",
   "execution_count": 182,
   "id": "20982c86",
   "metadata": {
    "ExecuteTime": {
     "end_time": "2023-04-27T15:02:14.099232Z",
     "start_time": "2023-04-27T15:02:14.081281Z"
    }
   },
   "outputs": [
    {
     "data": {
      "text/html": [
       "<div>\n",
       "<style scoped>\n",
       "    .dataframe tbody tr th:only-of-type {\n",
       "        vertical-align: middle;\n",
       "    }\n",
       "\n",
       "    .dataframe tbody tr th {\n",
       "        vertical-align: top;\n",
       "    }\n",
       "\n",
       "    .dataframe thead th {\n",
       "        text-align: right;\n",
       "    }\n",
       "</style>\n",
       "<table border=\"1\" class=\"dataframe\">\n",
       "  <thead>\n",
       "    <tr style=\"text-align: right;\">\n",
       "      <th></th>\n",
       "      <th>Home Ownership</th>\n",
       "      <th>Annual Income</th>\n",
       "      <th>Tax Liens</th>\n",
       "      <th>Number of Open Accounts</th>\n",
       "      <th>Years of Credit History</th>\n",
       "      <th>Maximum Open Credit</th>\n",
       "      <th>Number of Credit Problems</th>\n",
       "      <th>Bankruptcies</th>\n",
       "      <th>Purpose</th>\n",
       "      <th>Term</th>\n",
       "      <th>Current Loan Amount</th>\n",
       "      <th>Current Credit Balance</th>\n",
       "      <th>Monthly Debt</th>\n",
       "      <th>Credit Score</th>\n",
       "      <th>Credit Default</th>\n",
       "    </tr>\n",
       "  </thead>\n",
       "  <tbody>\n",
       "    <tr>\n",
       "      <th>0</th>\n",
       "      <td>2</td>\n",
       "      <td>482087.0</td>\n",
       "      <td>0.0</td>\n",
       "      <td>11.0</td>\n",
       "      <td>26.3</td>\n",
       "      <td>685960.0</td>\n",
       "      <td>1.0</td>\n",
       "      <td>1.0</td>\n",
       "      <td>3</td>\n",
       "      <td>1</td>\n",
       "      <td>99999999.0</td>\n",
       "      <td>47386.0</td>\n",
       "      <td>7914.0</td>\n",
       "      <td>749.0</td>\n",
       "      <td>0</td>\n",
       "    </tr>\n",
       "    <tr>\n",
       "      <th>1</th>\n",
       "      <td>2</td>\n",
       "      <td>1025487.0</td>\n",
       "      <td>0.0</td>\n",
       "      <td>15.0</td>\n",
       "      <td>15.3</td>\n",
       "      <td>1181730.0</td>\n",
       "      <td>0.0</td>\n",
       "      <td>0.0</td>\n",
       "      <td>3</td>\n",
       "      <td>0</td>\n",
       "      <td>264968.0</td>\n",
       "      <td>394972.0</td>\n",
       "      <td>18373.0</td>\n",
       "      <td>737.0</td>\n",
       "      <td>1</td>\n",
       "    </tr>\n",
       "    <tr>\n",
       "      <th>2</th>\n",
       "      <td>1</td>\n",
       "      <td>751412.0</td>\n",
       "      <td>0.0</td>\n",
       "      <td>11.0</td>\n",
       "      <td>35.0</td>\n",
       "      <td>1182434.0</td>\n",
       "      <td>0.0</td>\n",
       "      <td>0.0</td>\n",
       "      <td>3</td>\n",
       "      <td>1</td>\n",
       "      <td>99999999.0</td>\n",
       "      <td>308389.0</td>\n",
       "      <td>13651.0</td>\n",
       "      <td>742.0</td>\n",
       "      <td>0</td>\n",
       "    </tr>\n",
       "  </tbody>\n",
       "</table>\n",
       "</div>"
      ],
      "text/plain": [
       "   Home Ownership  Annual Income  Tax Liens  Number of Open Accounts  \\\n",
       "0               2       482087.0        0.0                     11.0   \n",
       "1               2      1025487.0        0.0                     15.0   \n",
       "2               1       751412.0        0.0                     11.0   \n",
       "\n",
       "   Years of Credit History  Maximum Open Credit  Number of Credit Problems  \\\n",
       "0                     26.3             685960.0                        1.0   \n",
       "1                     15.3            1181730.0                        0.0   \n",
       "2                     35.0            1182434.0                        0.0   \n",
       "\n",
       "   Bankruptcies  Purpose  Term  Current Loan Amount  Current Credit Balance  \\\n",
       "0           1.0        3     1           99999999.0                 47386.0   \n",
       "1           0.0        3     0             264968.0                394972.0   \n",
       "2           0.0        3     1           99999999.0                308389.0   \n",
       "\n",
       "   Monthly Debt  Credit Score  Credit Default  \n",
       "0        7914.0         749.0               0  \n",
       "1       18373.0         737.0               1  \n",
       "2       13651.0         742.0               0  "
      ]
     },
     "execution_count": 182,
     "metadata": {},
     "output_type": "execute_result"
    }
   ],
   "source": [
    "train.head(3)"
   ]
  },
  {
   "cell_type": "code",
   "execution_count": 183,
   "id": "dc43c588",
   "metadata": {
    "ExecuteTime": {
     "end_time": "2023-04-27T15:02:14.782225Z",
     "start_time": "2023-04-27T15:02:14.761278Z"
    }
   },
   "outputs": [
    {
     "data": {
      "text/html": [
       "<div>\n",
       "<style scoped>\n",
       "    .dataframe tbody tr th:only-of-type {\n",
       "        vertical-align: middle;\n",
       "    }\n",
       "\n",
       "    .dataframe tbody tr th {\n",
       "        vertical-align: top;\n",
       "    }\n",
       "\n",
       "    .dataframe thead th {\n",
       "        text-align: right;\n",
       "    }\n",
       "</style>\n",
       "<table border=\"1\" class=\"dataframe\">\n",
       "  <thead>\n",
       "    <tr style=\"text-align: right;\">\n",
       "      <th></th>\n",
       "      <th>Home Ownership</th>\n",
       "      <th>Annual Income</th>\n",
       "      <th>Tax Liens</th>\n",
       "      <th>Number of Open Accounts</th>\n",
       "      <th>Years of Credit History</th>\n",
       "      <th>Maximum Open Credit</th>\n",
       "      <th>Number of Credit Problems</th>\n",
       "      <th>Bankruptcies</th>\n",
       "      <th>Purpose</th>\n",
       "      <th>Term</th>\n",
       "      <th>Current Loan Amount</th>\n",
       "      <th>Current Credit Balance</th>\n",
       "      <th>Monthly Debt</th>\n",
       "      <th>Credit Score</th>\n",
       "    </tr>\n",
       "  </thead>\n",
       "  <tbody>\n",
       "    <tr>\n",
       "      <th>0</th>\n",
       "      <td>3</td>\n",
       "      <td>1168386.0</td>\n",
       "      <td>0.0</td>\n",
       "      <td>9.0</td>\n",
       "      <td>12.5</td>\n",
       "      <td>220968.0</td>\n",
       "      <td>0.0</td>\n",
       "      <td>0.0</td>\n",
       "      <td>3</td>\n",
       "      <td>1</td>\n",
       "      <td>162470.0</td>\n",
       "      <td>105906.0</td>\n",
       "      <td>6813.0</td>\n",
       "      <td>1168386.0</td>\n",
       "    </tr>\n",
       "    <tr>\n",
       "      <th>1</th>\n",
       "      <td>3</td>\n",
       "      <td>231838.0</td>\n",
       "      <td>0.0</td>\n",
       "      <td>6.0</td>\n",
       "      <td>32.7</td>\n",
       "      <td>55946.0</td>\n",
       "      <td>0.0</td>\n",
       "      <td>0.0</td>\n",
       "      <td>4</td>\n",
       "      <td>1</td>\n",
       "      <td>78298.0</td>\n",
       "      <td>46037.0</td>\n",
       "      <td>2318.0</td>\n",
       "      <td>699.0</td>\n",
       "    </tr>\n",
       "    <tr>\n",
       "      <th>2</th>\n",
       "      <td>1</td>\n",
       "      <td>1152540.0</td>\n",
       "      <td>0.0</td>\n",
       "      <td>10.0</td>\n",
       "      <td>13.7</td>\n",
       "      <td>204600.0</td>\n",
       "      <td>0.0</td>\n",
       "      <td>0.0</td>\n",
       "      <td>3</td>\n",
       "      <td>1</td>\n",
       "      <td>200178.0</td>\n",
       "      <td>146490.0</td>\n",
       "      <td>18729.0</td>\n",
       "      <td>7260.0</td>\n",
       "    </tr>\n",
       "  </tbody>\n",
       "</table>\n",
       "</div>"
      ],
      "text/plain": [
       "   Home Ownership  Annual Income  Tax Liens  Number of Open Accounts  \\\n",
       "0               3      1168386.0        0.0                      9.0   \n",
       "1               3       231838.0        0.0                      6.0   \n",
       "2               1      1152540.0        0.0                     10.0   \n",
       "\n",
       "   Years of Credit History  Maximum Open Credit  Number of Credit Problems  \\\n",
       "0                     12.5             220968.0                        0.0   \n",
       "1                     32.7              55946.0                        0.0   \n",
       "2                     13.7             204600.0                        0.0   \n",
       "\n",
       "   Bankruptcies  Purpose  Term  Current Loan Amount  Current Credit Balance  \\\n",
       "0           0.0        3     1             162470.0                105906.0   \n",
       "1           0.0        4     1              78298.0                 46037.0   \n",
       "2           0.0        3     1             200178.0                146490.0   \n",
       "\n",
       "   Monthly Debt  Credit Score  \n",
       "0        6813.0     1168386.0  \n",
       "1        2318.0         699.0  \n",
       "2       18729.0        7260.0  "
      ]
     },
     "execution_count": 183,
     "metadata": {},
     "output_type": "execute_result"
    }
   ],
   "source": [
    "test.head(3)"
   ]
  },
  {
   "cell_type": "code",
   "execution_count": 184,
   "id": "e668e32a",
   "metadata": {
    "ExecuteTime": {
     "end_time": "2023-04-27T15:02:15.371846Z",
     "start_time": "2023-04-27T15:02:15.352924Z"
    }
   },
   "outputs": [],
   "source": [
    "# Формируем из тренировочной выборки выборку со значенями признаков и выборку со значениями целевой переменной:\n",
    "train_X = train.drop(['Credit Default'], axis=1, inplace=False)\n",
    "train_y = train['Credit Default']"
   ]
  },
  {
   "cell_type": "code",
   "execution_count": 185,
   "id": "dd1e46e7",
   "metadata": {
    "ExecuteTime": {
     "end_time": "2023-04-27T15:02:16.900221Z",
     "start_time": "2023-04-27T15:02:15.993078Z"
    }
   },
   "outputs": [
    {
     "data": {
      "text/plain": [
       "RandomForestClassifier()"
      ]
     },
     "execution_count": 185,
     "metadata": {},
     "output_type": "execute_result"
    }
   ],
   "source": [
    "# Формируем модель классификатора Случайным лесом, обучаем ее на тестовой выборке:\n",
    "model = RandomForestClassifier()\n",
    "model.fit(train_X, train_y)"
   ]
  },
  {
   "cell_type": "code",
   "execution_count": 186,
   "id": "98b32177",
   "metadata": {
    "ExecuteTime": {
     "end_time": "2023-04-27T15:02:17.056756Z",
     "start_time": "2023-04-27T15:02:16.932139Z"
    }
   },
   "outputs": [],
   "source": [
    "# Предсказываем целевые значения в тренировочной выборке:\n",
    "train_y_pred = model.predict(train_X)"
   ]
  },
  {
   "cell_type": "code",
   "execution_count": 187,
   "id": "b24a224f",
   "metadata": {
    "ExecuteTime": {
     "end_time": "2023-04-27T15:02:17.707284Z",
     "start_time": "2023-04-27T15:02:17.697286Z"
    }
   },
   "outputs": [
    {
     "data": {
      "text/plain": [
       "0.9997633136094675"
      ]
     },
     "execution_count": 187,
     "metadata": {},
     "output_type": "execute_result"
    }
   ],
   "source": [
    "# Сравниваем предсказанные значения  с реальными в тренировочной выборке с помощью метрики f1_score:\n",
    "metrics.f1_score(train_y, train_y_pred)"
   ]
  },
  {
   "cell_type": "code",
   "execution_count": 188,
   "id": "75ba76c1",
   "metadata": {
    "ExecuteTime": {
     "end_time": "2023-04-27T15:02:18.574727Z",
     "start_time": "2023-04-27T15:02:18.520305Z"
    }
   },
   "outputs": [],
   "source": [
    "# Предсказываем целевые значения в тестовой выборке !!!\n",
    "test_pred = model.predict(test)"
   ]
  },
  {
   "cell_type": "code",
   "execution_count": 189,
   "id": "b33cd842",
   "metadata": {
    "ExecuteTime": {
     "end_time": "2023-04-27T15:02:19.224236Z",
     "start_time": "2023-04-27T15:02:19.209280Z"
    }
   },
   "outputs": [],
   "source": [
    "predictions = pd.DataFrame(test_pred, columns=['Credit Default'])"
   ]
  },
  {
   "cell_type": "code",
   "execution_count": 190,
   "id": "e7de3ea5",
   "metadata": {
    "ExecuteTime": {
     "end_time": "2023-04-27T15:02:20.635256Z",
     "start_time": "2023-04-27T15:02:20.625283Z"
    }
   },
   "outputs": [],
   "source": [
    "# Формируем файл .csv с предсказанными значениями: \n",
    "predictions.to_csv('AbramovAV_predictions.csv', sep=',', header=True, index=False)"
   ]
  }
 ],
 "metadata": {
  "kernelspec": {
   "display_name": "Python 3 (ipykernel)",
   "language": "python",
   "name": "python3"
  },
  "language_info": {
   "codemirror_mode": {
    "name": "ipython",
    "version": 3
   },
   "file_extension": ".py",
   "mimetype": "text/x-python",
   "name": "python",
   "nbconvert_exporter": "python",
   "pygments_lexer": "ipython3",
   "version": "3.9.12"
  },
  "varInspector": {
   "cols": {
    "lenName": 16,
    "lenType": 16,
    "lenVar": 40
   },
   "kernels_config": {
    "python": {
     "delete_cmd_postfix": "",
     "delete_cmd_prefix": "del ",
     "library": "var_list.py",
     "varRefreshCmd": "print(var_dic_list())"
    },
    "r": {
     "delete_cmd_postfix": ") ",
     "delete_cmd_prefix": "rm(",
     "library": "var_list.r",
     "varRefreshCmd": "cat(var_dic_list()) "
    }
   },
   "types_to_exclude": [
    "module",
    "function",
    "builtin_function_or_method",
    "instance",
    "_Feature"
   ],
   "window_display": false
  }
 },
 "nbformat": 4,
 "nbformat_minor": 5
}
