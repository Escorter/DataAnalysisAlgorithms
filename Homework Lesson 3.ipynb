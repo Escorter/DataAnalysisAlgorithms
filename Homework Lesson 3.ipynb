{
 "cells": [
  {
   "cell_type": "markdown",
   "id": "2a1a4053",
   "metadata": {},
   "source": [
    "### Домашняя работа к уроку 3"
   ]
  },
  {
   "cell_type": "code",
   "execution_count": 86,
   "id": "b66225e8",
   "metadata": {
    "ExecuteTime": {
     "end_time": "2023-03-23T17:04:29.173143Z",
     "start_time": "2023-03-23T17:04:29.169128Z"
    }
   },
   "outputs": [],
   "source": [
    "import numpy as np\n",
    "import matplotlib.pyplot as plt"
   ]
  },
  {
   "cell_type": "code",
   "execution_count": 87,
   "id": "ffa74a5f",
   "metadata": {
    "ExecuteTime": {
     "end_time": "2023-03-23T17:04:29.729354Z",
     "start_time": "2023-03-23T17:04:29.713375Z"
    }
   },
   "outputs": [],
   "source": [
    "X = np.array([ [   1,    1,  500,    1],\n",
    "               [   1,    1,  700,    1],\n",
    "               [   1,    2,  750,    2],\n",
    "               [   1,    5,  600,    1],\n",
    "               [   1,    3, 1450,    2],\n",
    "               [   1,    0,  800,    1],\n",
    "               [   1,    5, 1500,    3],\n",
    "               [   1,   10, 2000,    3],\n",
    "               [   1,    1,  450,    1],\n",
    "               [   1,    2, 1000,    2]], dtype=np.float64)\n",
    "\n",
    "y = np.array([0, 0, 1, 0, 1, 0, 1, 0, 1, 1], dtype=np.float64)"
   ]
  },
  {
   "cell_type": "code",
   "execution_count": 88,
   "id": "858fda6c",
   "metadata": {
    "ExecuteTime": {
     "end_time": "2023-03-23T17:04:30.395388Z",
     "start_time": "2023-03-23T17:04:30.386417Z"
    }
   },
   "outputs": [
    {
     "data": {
      "text/plain": [
       "(10, 4)"
      ]
     },
     "execution_count": 88,
     "metadata": {},
     "output_type": "execute_result"
    }
   ],
   "source": [
    "X.shape"
   ]
  },
  {
   "cell_type": "code",
   "execution_count": 89,
   "id": "8a6403f1",
   "metadata": {
    "ExecuteTime": {
     "end_time": "2023-03-23T17:04:31.015924Z",
     "start_time": "2023-03-23T17:04:31.000989Z"
    }
   },
   "outputs": [
    {
     "data": {
      "text/plain": [
       "(10,)"
      ]
     },
     "execution_count": 89,
     "metadata": {},
     "output_type": "execute_result"
    }
   ],
   "source": [
    "y.shape"
   ]
  },
  {
   "cell_type": "code",
   "execution_count": 90,
   "id": "71310ad8",
   "metadata": {
    "ExecuteTime": {
     "end_time": "2023-03-23T17:04:31.634352Z",
     "start_time": "2023-03-23T17:04:31.625376Z"
    }
   },
   "outputs": [],
   "source": [
    "def standard_scale(x):\n",
    "    res = (x - x.mean()) / x.std()\n",
    "    return res"
   ]
  },
  {
   "cell_type": "code",
   "execution_count": 91,
   "id": "10df1372",
   "metadata": {
    "ExecuteTime": {
     "end_time": "2023-03-23T17:04:32.420101Z",
     "start_time": "2023-03-23T17:04:32.409131Z"
    }
   },
   "outputs": [],
   "source": [
    "X_st = X.copy()\n",
    "X_st[:, 2] = standard_scale(X[:, 2])"
   ]
  },
  {
   "cell_type": "code",
   "execution_count": 92,
   "id": "f04e590e",
   "metadata": {
    "ExecuteTime": {
     "end_time": "2023-03-23T17:04:33.145097Z",
     "start_time": "2023-03-23T17:04:33.130135Z"
    }
   },
   "outputs": [
    {
     "data": {
      "text/plain": [
       "array([[ 1.        ,  1.        , -0.97958969,  1.        ],\n",
       "       [ 1.        ,  1.        , -0.56713087,  1.        ],\n",
       "       [ 1.        ,  2.        , -0.46401617,  2.        ],\n",
       "       [ 1.        ,  5.        , -0.77336028,  1.        ],\n",
       "       [ 1.        ,  3.        ,  0.97958969,  2.        ],\n",
       "       [ 1.        ,  0.        , -0.36090146,  1.        ],\n",
       "       [ 1.        ,  5.        ,  1.08270439,  3.        ],\n",
       "       [ 1.        , 10.        ,  2.11385144,  3.        ],\n",
       "       [ 1.        ,  1.        , -1.08270439,  1.        ],\n",
       "       [ 1.        ,  2.        ,  0.05155735,  2.        ]])"
      ]
     },
     "execution_count": 92,
     "metadata": {},
     "output_type": "execute_result"
    }
   ],
   "source": [
    "X_st"
   ]
  },
  {
   "cell_type": "markdown",
   "id": "1cb777d6",
   "metadata": {},
   "source": [
    "#### Задача 1\n",
    "Измените функцию calc_logloss так, чтобы нули по возможности не попадали в np.log"
   ]
  },
  {
   "cell_type": "code",
   "execution_count": 93,
   "id": "01136c0b",
   "metadata": {
    "ExecuteTime": {
     "end_time": "2023-03-23T17:04:35.510842Z",
     "start_time": "2023-03-23T17:04:35.497801Z"
    }
   },
   "outputs": [],
   "source": [
    "# Исходный вариант кода:\n",
    "def calc_logloss(y, y_pred):\n",
    "    err = - np.mean(y * np.log(y_pred) + (1.0 - y) * np.log(1.0 - y_pred))\n",
    "    return err"
   ]
  },
  {
   "cell_type": "markdown",
   "id": "7b783179",
   "metadata": {},
   "source": [
    "Т.к. log(0) не определен, а при x->0+ log(x)=-inf, то нам необходимо\n",
    "избежать попадание 0 под логарифм. \n",
    "Т.о. функция calc_logloss модифицируется:"
   ]
  },
  {
   "cell_type": "code",
   "execution_count": 94,
   "id": "644b65c2",
   "metadata": {
    "ExecuteTime": {
     "end_time": "2023-03-23T17:04:37.077114Z",
     "start_time": "2023-03-23T17:04:37.065146Z"
    }
   },
   "outputs": [],
   "source": [
    "def calc_logloss_modif(y, y_pred):\n",
    "    for i in range(len(y)):\n",
    "        if y_pred[i] == 0:\n",
    "            y_pred[i]=y_pred[i] + (1e-8)\n",
    "        elif y_pred[i] == 1:\n",
    "            y_pred[i]=y_pred[i] - (1e-8)\n",
    "    err = - np.mean(y * np.log(y_pred) + (1.0 - y) * np.log(1.0 - y_pred))\n",
    "    return err"
   ]
  },
  {
   "cell_type": "code",
   "execution_count": 95,
   "id": "d8b94caa",
   "metadata": {
    "ExecuteTime": {
     "end_time": "2023-03-23T17:04:38.287147Z",
     "start_time": "2023-03-23T17:04:38.281162Z"
    }
   },
   "outputs": [
    {
     "data": {
      "text/plain": [
       "0.052680262828913194"
      ]
     },
     "execution_count": 95,
     "metadata": {},
     "output_type": "execute_result"
    }
   ],
   "source": [
    "# Тестируем функцию calc_logloss_modif критическими случаями:\n",
    "y1 = np.array([1, 0])\n",
    "y_pred1 = np.array([0.9, 0])\n",
    "calc_logloss_modif(y1, y_pred1)"
   ]
  },
  {
   "cell_type": "code",
   "execution_count": 96,
   "id": "2cdfa3a4",
   "metadata": {
    "ExecuteTime": {
     "end_time": "2023-03-23T17:04:38.966919Z",
     "start_time": "2023-03-23T17:04:38.954925Z"
    }
   },
   "outputs": [
    {
     "data": {
      "text/plain": [
       "0.052680262828913194"
      ]
     },
     "execution_count": 96,
     "metadata": {},
     "output_type": "execute_result"
    }
   ],
   "source": [
    "y1 = np.array([1, 0])\n",
    "y_pred1 = np.array([1, 0.1])\n",
    "calc_logloss_modif(y1, y_pred1)"
   ]
  },
  {
   "cell_type": "code",
   "execution_count": 97,
   "id": "d3d13fa7",
   "metadata": {
    "ExecuteTime": {
     "end_time": "2023-03-23T17:04:39.631354Z",
     "start_time": "2023-03-23T17:04:39.616974Z"
    }
   },
   "outputs": [
    {
     "data": {
      "text/plain": [
       "0.10536051565782628"
      ]
     },
     "execution_count": 97,
     "metadata": {},
     "output_type": "execute_result"
    }
   ],
   "source": [
    "y1 = np.array([1, 0])\n",
    "y_pred1 = np.array([0.9, 0.1])\n",
    "calc_logloss_modif(y1, y_pred1)"
   ]
  },
  {
   "cell_type": "markdown",
   "id": "bd62209e",
   "metadata": {},
   "source": [
    "#### Задача 2\n",
    "Подберите аргументы функции eval_model для логистической регрессии таким образом, чтобы log loss был минимальным"
   ]
  },
  {
   "cell_type": "code",
   "execution_count": 98,
   "id": "b4d23acd",
   "metadata": {
    "ExecuteTime": {
     "end_time": "2023-03-23T17:04:41.162093Z",
     "start_time": "2023-03-23T17:04:41.145165Z"
    }
   },
   "outputs": [],
   "source": [
    "def sigmoid(z):\n",
    "    res = 1 / (1 + np.exp(-z))\n",
    "    return res"
   ]
  },
  {
   "cell_type": "code",
   "execution_count": 101,
   "id": "8ecce020",
   "metadata": {
    "ExecuteTime": {
     "end_time": "2023-03-23T17:07:02.571094Z",
     "start_time": "2023-03-23T17:07:02.561121Z"
    }
   },
   "outputs": [],
   "source": [
    "def eval_model(X, y, iterations, eta=1e-4):\n",
    "    np.random.seed(42)\n",
    "    W = np.random.randn(X.shape[1])\n",
    "    n = X.shape[0]\n",
    "    \n",
    "    for i in range(iterations):\n",
    "        z = np.dot(X, W)\n",
    "        y_pred = sigmoid(z)\n",
    "        err = calc_logloss_modif(y, y_pred)\n",
    "        \n",
    "        dQ = 1/n * X.T @ (y_pred - y)\n",
    "        W -= eta * dQ\n",
    "        #if i % (iterations / 10) == 0:\n",
    "        #    print(i, W, err)\n",
    "            \n",
    "    final_error = calc_logloss(y, y_pred)\n",
    "    return err"
   ]
  },
  {
   "cell_type": "code",
   "execution_count": 103,
   "id": "f7782bbb",
   "metadata": {
    "ExecuteTime": {
     "end_time": "2023-03-23T17:09:11.226007Z",
     "start_time": "2023-03-23T17:09:06.881352Z"
    }
   },
   "outputs": [
    {
     "name": "stdout",
     "output_type": "stream",
     "text": [
      "best_error=0.023009894586955022, iterations_best=10000, eta_best=16\n"
     ]
    }
   ],
   "source": [
    "best_error = np.inf\n",
    "iterations_best = 0\n",
    "eta_best = 0\n",
    "for iterations in [10, 100, 1000, 10000]:\n",
    "    for eta in [1e-8, 1e-6, 1e-4, 1e-2, 1, 2, 3, 4, 6, 8, 10, 12, 14, 16]:\n",
    "        error = eval_model(X_st, y, iterations=iterations, eta=eta)\n",
    "        #print(f'{error=}, {iterations=}, {eta=}')\n",
    "        if error < best_error:\n",
    "            best_error = error\n",
    "            iterations_best = iterations\n",
    "            eta_best = eta\n",
    "print(f'{best_error=}, {iterations_best=}, {eta_best=}')"
   ]
  },
  {
   "cell_type": "markdown",
   "id": "0608d849",
   "metadata": {},
   "source": [
    "#### Задача 3\n",
    "Создайте функцию calc_pred_proba, возвращающую предсказанную вероятность класса 1. На вход подаётся W, который уже посчитан функцией eval_model, и X, на выходе — массив y_pred_proba"
   ]
  },
  {
   "cell_type": "code",
   "execution_count": 118,
   "id": "3ce65150",
   "metadata": {
    "ExecuteTime": {
     "end_time": "2023-03-23T17:15:29.921278Z",
     "start_time": "2023-03-23T17:15:29.903350Z"
    }
   },
   "outputs": [],
   "source": [
    "def calc_pred_proba(W, X):\n",
    "    y_pred_proba = sigmoid(X @ W)\n",
    "    return y_pred_proba"
   ]
  },
  {
   "cell_type": "code",
   "execution_count": 119,
   "id": "7a015ac9",
   "metadata": {
    "ExecuteTime": {
     "end_time": "2023-03-23T17:15:30.928160Z",
     "start_time": "2023-03-23T17:15:30.915126Z"
    }
   },
   "outputs": [],
   "source": [
    "def eval_model(X, y, iterations, eta=1e-4):\n",
    "    np.random.seed(42)\n",
    "    W = np.random.randn(X.shape[1])\n",
    "    n = X.shape[0]\n",
    "    \n",
    "    for i in range(iterations):\n",
    "        z = np.dot(X, W)\n",
    "        y_pred = sigmoid(z)\n",
    "        err = calc_logloss(y, y_pred)\n",
    "        \n",
    "        dQ = 1/n * X.T @ (y_pred - y)\n",
    "        W -= eta * dQ\n",
    "        if i % (iterations / 10) == 0:\n",
    "            print(i, W, err)\n",
    "            \n",
    "    final_error = calc_logloss(y, y_pred)\n",
    "    return W"
   ]
  },
  {
   "cell_type": "code",
   "execution_count": 120,
   "id": "130764d8",
   "metadata": {
    "ExecuteTime": {
     "end_time": "2023-03-23T17:15:32.078943Z",
     "start_time": "2023-03-23T17:15:31.826860Z"
    }
   },
   "outputs": [
    {
     "name": "stdout",
     "output_type": "stream",
     "text": [
      "0 [ 0.49667621 -0.13840939  0.6476858   1.52297324] 1.1785958344356262\n",
      "1000 [ 0.46070853 -0.27660658  0.64395225  1.46886563] 0.9450063518188168\n",
      "2000 [ 0.42910538 -0.39762907  0.63899133  1.42101856] 0.7649678531356925\n",
      "3000 [ 0.40237714 -0.49496601  0.63497974  1.38181554] 0.6467938123731767\n",
      "4000 [ 0.38047894 -0.5650296   0.63387164  1.35257212] 0.5836344091291391\n",
      "5000 [ 0.36247418 -0.61238439  0.63568618  1.33181421] 0.5532531003505643\n",
      "6000 [ 0.34723076 -0.64431226  0.63950668  1.31708294] 0.5382593304625718\n",
      "7000 [ 0.33391048 -0.6662408   0.64455548  1.30646938] 0.5302255883714215\n",
      "8000 [ 0.32196306 -0.68156712  0.65034185  1.29871977] 0.5254818665326442\n",
      "9000 [ 0.3110257  -0.69240217  0.65656725  1.29301615] 0.5223831652167139\n"
     ]
    }
   ],
   "source": [
    "W = eval_model(X_st, y, 10000, 1e-4)"
   ]
  },
  {
   "cell_type": "code",
   "execution_count": 121,
   "id": "1b1a72eb",
   "metadata": {
    "ExecuteTime": {
     "end_time": "2023-03-23T17:15:32.868762Z",
     "start_time": "2023-03-23T17:15:32.850576Z"
    }
   },
   "outputs": [
    {
     "data": {
      "text/plain": [
       "array([0.55973106, 0.62563756, 0.76325904, 0.08139218, 0.80654274,\n",
       "       0.79419209, 0.79974273, 0.19277038, 0.54282025, 0.81942788])"
      ]
     },
     "execution_count": 121,
     "metadata": {},
     "output_type": "execute_result"
    }
   ],
   "source": [
    "calc_pred_proba(W, X_st)"
   ]
  },
  {
   "cell_type": "markdown",
   "id": "2fdd0db8",
   "metadata": {},
   "source": [
    "#### Задача 4\n",
    "Создайте функцию calc_pred, возвращающую предсказанный класс (на вход подаются W, который уже посчитан функцией eval_model и X, на выходе - массив y_pred)"
   ]
  },
  {
   "cell_type": "code",
   "execution_count": 128,
   "id": "3ac323f1",
   "metadata": {
    "ExecuteTime": {
     "end_time": "2023-03-23T17:20:06.733435Z",
     "start_time": "2023-03-23T17:20:06.717478Z"
    }
   },
   "outputs": [],
   "source": [
    "def calc_pred(W, X):\n",
    "    y_pred_proba = calc_pred_proba(W, X_st)\n",
    "    y_pred = np.where(y_pred_proba > 0.5, 1, 0)\n",
    "    return y_pred"
   ]
  },
  {
   "cell_type": "code",
   "execution_count": 131,
   "id": "3fba3391",
   "metadata": {
    "ExecuteTime": {
     "end_time": "2023-03-23T17:20:20.037833Z",
     "start_time": "2023-03-23T17:20:20.020853Z"
    }
   },
   "outputs": [
    {
     "data": {
      "text/plain": [
       "array([1, 1, 1, 0, 1, 1, 1, 0, 1, 1])"
      ]
     },
     "execution_count": 131,
     "metadata": {},
     "output_type": "execute_result"
    }
   ],
   "source": [
    "pred = calc_pred(W, X_st)\n",
    "pred"
   ]
  },
  {
   "cell_type": "markdown",
   "id": "9162fc68",
   "metadata": {},
   "source": [
    "#### Задача 5\n",
    "Посчитайте Accuracy, матрицу ошибок, точность и полноту, а также F1 score"
   ]
  },
  {
   "cell_type": "code",
   "execution_count": 132,
   "id": "b62b28f9",
   "metadata": {
    "ExecuteTime": {
     "end_time": "2023-03-23T17:51:11.240962Z",
     "start_time": "2023-03-23T17:51:11.227996Z"
    }
   },
   "outputs": [
    {
     "data": {
      "text/plain": [
       "array([0., 0., 1., 0., 1., 0., 1., 0., 1., 1.])"
      ]
     },
     "execution_count": 132,
     "metadata": {},
     "output_type": "execute_result"
    }
   ],
   "source": [
    "y"
   ]
  },
  {
   "cell_type": "code",
   "execution_count": 142,
   "id": "04cf9bc3",
   "metadata": {
    "ExecuteTime": {
     "end_time": "2023-03-23T17:55:44.028024Z",
     "start_time": "2023-03-23T17:55:44.009075Z"
    }
   },
   "outputs": [
    {
     "data": {
      "text/plain": [
       "array([1, 1, 1, 0, 1, 1, 1, 0, 1, 1])"
      ]
     },
     "execution_count": 142,
     "metadata": {},
     "output_type": "execute_result"
    }
   ],
   "source": [
    "y_pred = calc_pred(W, X_st)\n",
    "y_pred"
   ]
  },
  {
   "cell_type": "markdown",
   "id": "1894df7e",
   "metadata": {},
   "source": [
    "*Accuracy*"
   ]
  },
  {
   "cell_type": "code",
   "execution_count": 140,
   "id": "9bc3eb0a",
   "metadata": {
    "ExecuteTime": {
     "end_time": "2023-03-23T17:55:36.380515Z",
     "start_time": "2023-03-23T17:55:36.373534Z"
    }
   },
   "outputs": [],
   "source": [
    "def accuracy(y_pred, y):\n",
    "    s = 0\n",
    "    for i in range(len(y)):\n",
    "        if y[i]==y_pred[i]:\n",
    "            s+=1\n",
    "    return s/len(y)"
   ]
  },
  {
   "cell_type": "code",
   "execution_count": 141,
   "id": "a5a6f441",
   "metadata": {
    "ExecuteTime": {
     "end_time": "2023-03-23T17:55:36.811938Z",
     "start_time": "2023-03-23T17:55:36.799207Z"
    }
   },
   "outputs": [
    {
     "name": "stdout",
     "output_type": "stream",
     "text": [
      "0.7\n"
     ]
    }
   ],
   "source": [
    "print(accuracy(y_pred, y))"
   ]
  },
  {
   "cell_type": "markdown",
   "id": "71f875a2",
   "metadata": {},
   "source": [
    "*Confusion Matrix, Precission, Recall, F-score*\n",
    "##### | TP       FP |\n",
    "##### | FN      TN |"
   ]
  },
  {
   "cell_type": "code",
   "execution_count": 164,
   "id": "cedd3249",
   "metadata": {
    "ExecuteTime": {
     "end_time": "2023-03-23T18:19:31.533791Z",
     "start_time": "2023-03-23T18:19:31.522820Z"
    }
   },
   "outputs": [],
   "source": [
    "def conf_matrix(y_pred, y, beta=1):\n",
    "    cm = np.zeros((2, 2))\n",
    "    for i in range(len(y)): \n",
    "        if y[i] == y_pred[i] == 1: # TP - True Positive\n",
    "            cm[0][0] += 1\n",
    "        elif y[i] == y_pred[i] == 0: # TN - True Negative\n",
    "            cm[1][1] += 1\n",
    "        elif y[i] != y_pred[i] and y[i] == 1: # FN - False Negative\n",
    "            cm[1][0] += 1\n",
    "        elif y[i] != y_pred[i] and y[i] == 0: # FP - False Positive\n",
    "            cm[0][1] += 1\n",
    "    TP = cm[0][0]\n",
    "    TN = cm[1][1]\n",
    "    FP = cm[0][1]\n",
    "    FN = cm[1][0]\n",
    "    precission = TP / (TP + FP)\n",
    "    recall = TP / (TP + FN)\n",
    "    f_score = (1 + beta**2) * precission * recall / ((beta**2)*precission + recall)\n",
    "    \n",
    "    print(f'Confusion matrix:\\n{cm}')\n",
    "    print(f'{precission=},\\n{recall=},\\n{f_score=}')\n",
    "    \n",
    "    return cm"
   ]
  },
  {
   "cell_type": "code",
   "execution_count": 165,
   "id": "d590e4b7",
   "metadata": {
    "ExecuteTime": {
     "end_time": "2023-03-23T18:19:32.215512Z",
     "start_time": "2023-03-23T18:19:32.205539Z"
    }
   },
   "outputs": [
    {
     "name": "stdout",
     "output_type": "stream",
     "text": [
      "Confusion matrix:\n",
      "[[5. 3.]\n",
      " [0. 2.]]\n",
      "precission=0.625,\n",
      "recall=1.0,\n",
      "f_score=0.7692307692307693\n"
     ]
    },
    {
     "data": {
      "text/plain": [
       "array([[5., 3.],\n",
       "       [0., 2.]])"
      ]
     },
     "execution_count": 165,
     "metadata": {},
     "output_type": "execute_result"
    }
   ],
   "source": [
    "conf_matrix(y_pred, y)"
   ]
  }
 ],
 "metadata": {
  "kernelspec": {
   "display_name": "Python 3 (ipykernel)",
   "language": "python",
   "name": "python3"
  },
  "language_info": {
   "codemirror_mode": {
    "name": "ipython",
    "version": 3
   },
   "file_extension": ".py",
   "mimetype": "text/x-python",
   "name": "python",
   "nbconvert_exporter": "python",
   "pygments_lexer": "ipython3",
   "version": "3.9.12"
  },
  "varInspector": {
   "cols": {
    "lenName": 16,
    "lenType": 16,
    "lenVar": 40
   },
   "kernels_config": {
    "python": {
     "delete_cmd_postfix": "",
     "delete_cmd_prefix": "del ",
     "library": "var_list.py",
     "varRefreshCmd": "print(var_dic_list())"
    },
    "r": {
     "delete_cmd_postfix": ") ",
     "delete_cmd_prefix": "rm(",
     "library": "var_list.r",
     "varRefreshCmd": "cat(var_dic_list()) "
    }
   },
   "types_to_exclude": [
    "module",
    "function",
    "builtin_function_or_method",
    "instance",
    "_Feature"
   ],
   "window_display": false
  }
 },
 "nbformat": 4,
 "nbformat_minor": 5
}
