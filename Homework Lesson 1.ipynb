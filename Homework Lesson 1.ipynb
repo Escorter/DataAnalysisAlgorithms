{
 "cells": [
  {
   "cell_type": "markdown",
   "id": "c1ede186",
   "metadata": {},
   "source": [
    "#### Задача 1\n",
    "Подберите скорость обучения (eta) и количество итераций"
   ]
  },
  {
   "cell_type": "code",
   "execution_count": 84,
   "id": "b75f0bc7",
   "metadata": {
    "ExecuteTime": {
     "end_time": "2023-03-15T19:15:01.161810Z",
     "start_time": "2023-03-15T19:15:01.156828Z"
    }
   },
   "outputs": [],
   "source": [
    "import numpy as np\n",
    "import matplotlib.pyplot as plt\n",
    "from mpl_toolkits.mplot3d.axes3d import Axes3D"
   ]
  },
  {
   "cell_type": "code",
   "execution_count": 85,
   "id": "434ca939",
   "metadata": {
    "ExecuteTime": {
     "end_time": "2023-03-15T19:15:01.951766Z",
     "start_time": "2023-03-15T19:15:01.940827Z"
    }
   },
   "outputs": [],
   "source": [
    "X = np.array([[ 1,  1],\n",
    "              [ 1,  1],\n",
    "              [ 1,  2],\n",
    "              [ 1,  5],\n",
    "              [ 1,  3],\n",
    "              [ 1,  0],\n",
    "              [ 1,  5],\n",
    "              [ 1, 10],\n",
    "              [ 1,  1],\n",
    "              [ 1,  2]])\n",
    "\n",
    "y = [45, 55, 50, 55, 60, 35, 75, 80, 50, 60]"
   ]
  },
  {
   "cell_type": "code",
   "execution_count": 86,
   "id": "9c9a9026",
   "metadata": {
    "ExecuteTime": {
     "end_time": "2023-03-15T19:15:02.913798Z",
     "start_time": "2023-03-15T19:15:02.900827Z"
    }
   },
   "outputs": [],
   "source": [
    "# Функция для вычисления MAE \n",
    "def calc_mae(y, y_pred):\n",
    "    err = np.mean(np.abs(y - y_pred))\n",
    "    return err\n",
    "\n",
    "# Функция для вычисления MSE \n",
    "def calc_mse(y, y_pred):\n",
    "    err = np.mean((y - y_pred)**2)\n",
    "    return err"
   ]
  },
  {
   "cell_type": "code",
   "execution_count": 87,
   "id": "a30db1a0",
   "metadata": {
    "ExecuteTime": {
     "end_time": "2023-03-15T19:15:03.779553Z",
     "start_time": "2023-03-15T19:15:03.764664Z"
    }
   },
   "outputs": [
    {
     "name": "stdout",
     "output_type": "stream",
     "text": [
      "Number of objects = 10        \n",
      "Learning rate = 0.096        \n",
      "Initial weights = [1.  0.5] \n",
      "\n",
      "Iteration #0: W_new = [11.368 36.692], MSE = 3047.75\n",
      "Iteration #10: W_new = [ 6566.13481866 36060.78077032], MSE = 5538755658.36\n",
      "Iteration #20: W_new = [ 2133066.84533434 11762955.62520685], MSE = 787951193917419.2\n",
      "Iteration #30: W_new = [1.50689618e+08 8.31002977e+08], MSE = 5.340321578247834e+18\n",
      "Iteration #40: W_new = [2.08852942e+09 1.15175459e+10], MSE = 1.4208490701029318e+21\n",
      "Iteration #50: W_new = [5.01468492e+09 2.76543218e+10], MSE = 1.163121085479691e+22\n",
      "Iteration #60: W_new = [1.77593210e+09 9.79367554e+09], MSE = 2.1391163183193936e+21\n",
      "Iteration #70: W_new = [7.48171553e+07 4.12591524e+08], MSE = 5.811726862876578e+18\n",
      "Iteration #80: W_new = [ 277664.4777686  1530984.45868739], MSE = 130085535575329.55\n",
      "Iteration #90: W_new = [102.8567911  323.73725389], MSE = 10096421.16\n",
      "Iteration #100: W_new = [44.9123317   3.84159772], MSE = 43.98\n",
      "Iteration #110: W_new = [44.95230315  3.8324825 ], MSE = 43.97\n"
     ]
    }
   ],
   "source": [
    "n = X.shape[0] # n=10 - number of objects\n",
    " \n",
    "eta = 0.096 # learning rate\n",
    "n_iter = 120 # amount of iterations\n",
    "W = np.array([1, 0.5]) # initial weights\n",
    "\n",
    "print(f'Number of objects = {n} \\\n",
    "       \\nLearning rate = {eta} \\\n",
    "       \\nInitial weights = {W} \\n')\n",
    "\n",
    "for i in range(n_iter):   \n",
    "    y_pred = np.dot(X, W) # вычисляем y по актуальным весам\n",
    "    err = calc_mse(y, y_pred) # вычисляем ошибку MSE\n",
    "    for k in range(W.shape[0]):\n",
    "        W[k] -= eta * (1/n * 2 * X[:, k] @ (y_pred - y))\n",
    "    if i % 10 == 0:\n",
    "        eta /= 1.1 # на каждой десятой итерации снижаем скорость в 1.1 раза\n",
    "        print(f'Iteration #{i}: W_new = {W}, MSE = {round(err, 2)}')"
   ]
  },
  {
   "cell_type": "markdown",
   "id": "1f04532f",
   "metadata": {},
   "source": [
    "#### Ответ:\n",
    "При скорости обучения eta=0.096 и количестве итераций n_iter=110 наибыстрейшим путем достигается значение MSE=43.97, что с учетом округления до 2-го знака после запятой, соответствует расчетному значению MSE, полученному аналитически методом наименьших квадратов"
   ]
  },
  {
   "cell_type": "markdown",
   "id": "912340b2",
   "metadata": {},
   "source": [
    "#### Задача 2*\n",
    "В этом коде мы избавляемся от итераций по весам, но тут есть ошибка, исправьте ее"
   ]
  },
  {
   "cell_type": "code",
   "execution_count": 88,
   "id": "30e1eb25",
   "metadata": {
    "ExecuteTime": {
     "end_time": "2023-03-15T19:15:08.526096Z",
     "start_time": "2023-03-15T19:15:08.500833Z"
    }
   },
   "outputs": [
    {
     "name": "stdout",
     "output_type": "stream",
     "text": [
      "Number of objects = 10        \n",
      "Learning rate = 0.054        \n",
      "Initial weights = [1.  0.5] \n",
      "\n",
      "Iteration #0: W_new = [ 6.832 20.858], MSE = 3047.75\n",
      "Iteration #10: W_new = [21.50297045 11.41055022], MSE = 582.38\n",
      "Iteration #20: W_new = [30.68406857  7.5136045 ], MSE = 179.97\n",
      "Iteration #30: W_new = [36.33244009  5.75528271], MSE = 87.0\n",
      "Iteration #40: W_new = [39.77660133  4.88931887], MSE = 58.94\n",
      "Iteration #50: W_new = [41.86677808  4.43090149], MSE = 49.34\n",
      "Iteration #60: W_new = [43.13201911  4.17535829], MSE = 45.92\n",
      "Iteration #70: W_new = [43.89684579  4.02808147], MSE = 44.68\n",
      "Iteration #80: W_new = [44.35882958  3.9414837 ], MSE = 44.23\n",
      "Iteration #90: W_new = [44.63777106  3.88997318], MSE = 44.06\n",
      "Iteration #100: W_new = [44.80615588  3.85913373], MSE = 44.0\n",
      "Iteration #110: W_new = [44.90779016  3.84060347], MSE = 43.98\n",
      "Iteration #120: W_new = [44.96913087  3.82944724], MSE = 43.97\n"
     ]
    }
   ],
   "source": [
    "n = X.shape[0]\n",
    "\n",
    "eta = 0.054 # learning rate\n",
    "n_iter = 130\n",
    "\n",
    "W = np.array([1, 0.5])\n",
    "print(f'Number of objects = {n} \\\n",
    "       \\nLearning rate = {eta} \\\n",
    "       \\nInitial weights = {W} \\n')\n",
    "\n",
    "for i in range(n_iter):\n",
    "    y_pred = np.dot(X, W)\n",
    "    err = calc_mse(y, y_pred)\n",
    "    #for k in range(W.shape[0]):\n",
    "    #    W[k] -= eta * (1/n * 2 * X[:, k] @ (y_pred - y))\n",
    "    # ИЗМЕНЕНИЯ\n",
    "    W -= eta * (1/n * 2 * (y_pred - y)@X) # поменены местами множители в скалярном произведении\n",
    "    # ИЗМЕНЕНИЯ\n",
    "    #\n",
    "    if i % 10 == 0:\n",
    "        print(f'Iteration #{i}: W_new = {W}, MSE = {round(err,2)}')"
   ]
  },
  {
   "cell_type": "markdown",
   "id": "68f28757",
   "metadata": {},
   "source": [
    "#### Задача 3*\n",
    "Вместо того, чтобы задавать количество итераций, задайте другое условие останова алгоритма - когда веса перестают изменяться меньше определенного порога 𝜖"
   ]
  },
  {
   "cell_type": "code",
   "execution_count": 89,
   "id": "05653144",
   "metadata": {
    "ExecuteTime": {
     "end_time": "2023-03-15T19:15:11.404600Z",
     "start_time": "2023-03-15T19:15:11.372822Z"
    }
   },
   "outputs": [
    {
     "name": "stdout",
     "output_type": "stream",
     "text": [
      "Number of objects = 10        \n",
      "Learning rate = 0.096        \n",
      "Initial weights = [1.  0.5] \n",
      "\n",
      "Iteration #10: W_new = [-10993.41218545 -60773.83321208], MSE = 11933914414.63\n",
      "Iteration #20: W_new = [-15332326.4635356  -84552891.67194663], MSE = 3.046238749953743e+16\n",
      "Iteration #30: W_new = [-5.00233497e+09 -2.75862164e+10], MSE = 4.33362237784826e+21\n",
      "Iteration #40: W_new = [-3.53393930e+11 -1.94885017e+12], MSE = 2.9371028656412633e+25\n",
      "Iteration #50: W_new = [-4.89797384e+12 -2.70106992e+13], MSE = 7.814472994362768e+27\n",
      "Iteration #60: W_new = [-1.17603303e+13 -6.48543163e+13], MSE = 6.397004793054134e+28\n",
      "Iteration #70: W_new = [-4.16487739e+12 -2.29679157e+13], MSE = 1.1764843327163981e+28\n",
      "Iteration #80: W_new = [-1.75459467e+11 -9.67600694e+11], MSE = 3.196369239786435e+25\n",
      "Iteration #90: W_new = [-6.51067720e+08 -3.59042251e+09], MSE = 7.154524193316631e+20\n",
      "Iteration #100: W_new = [-135990.49058238 -750186.55125096], MSE = 55528675322321.98\n",
      "Iteration #110: W_new = [44.22703386 -0.41449177], MSE = 3694.08\n",
      "Iteration #120: W_new = [45.0136088  3.8213655], MSE = 43.97\n",
      "Iteration #130: W_new = [45.02565697  3.81918092], MSE = 43.97\n",
      "Iteration #140: W_new = [45.03400324  3.81766745], MSE = 43.97\n",
      "Iteration #150: W_new = [45.03993181  3.81659239], MSE = 43.97\n",
      "Iteration #160: W_new = [45.04423982  3.8158112 ], MSE = 43.97\n",
      "Iteration #170: W_new = [45.04743541  3.81523173], MSE = 43.97\n"
     ]
    }
   ],
   "source": [
    "n = X.shape[0] # n=10 - number of objects\n",
    " \n",
    "eta = 0.096 # learning rate\n",
    "epsilon = 0.0002 # weight change threshold\n",
    "W = np.array([1, 0.5]) # initial weights\n",
    "\n",
    "print(f'Number of objects = {n} \\\n",
    "       \\nLearning rate = {eta} \\\n",
    "       \\nInitial weights = {W} \\n')\n",
    "delta=1\n",
    "sw0 = np.sum([W])\n",
    "i=0\n",
    "while delta >= epsilon:   \n",
    "    i+=1\n",
    "    y_pred = np.dot(X, W) # вычисляем y по актуальным весам\n",
    "    err = calc_mse(y, y_pred) # вычисляем ошибку MSE\n",
    "    for k in range(W.shape[0]):\n",
    "        W[k] -= eta * (1/n * 2 * X[:, k] @ (y_pred - y))\n",
    "    if i % 10 == 0:\n",
    "        eta /= 1.1 # на каждой десятой итерации снижаем скорость в 1.1 раза\n",
    "        print(f'Iteration #{i}: W_new = {W}, MSE = {round(err, 2)}')\n",
    "    delta = abs(np.sum(W) - sw0)\n",
    "    sw0 = np.sum([W])"
   ]
  }
 ],
 "metadata": {
  "kernelspec": {
   "display_name": "Python 3 (ipykernel)",
   "language": "python",
   "name": "python3"
  },
  "language_info": {
   "codemirror_mode": {
    "name": "ipython",
    "version": 3
   },
   "file_extension": ".py",
   "mimetype": "text/x-python",
   "name": "python",
   "nbconvert_exporter": "python",
   "pygments_lexer": "ipython3",
   "version": "3.9.12"
  },
  "varInspector": {
   "cols": {
    "lenName": 16,
    "lenType": 16,
    "lenVar": 40
   },
   "kernels_config": {
    "python": {
     "delete_cmd_postfix": "",
     "delete_cmd_prefix": "del ",
     "library": "var_list.py",
     "varRefreshCmd": "print(var_dic_list())"
    },
    "r": {
     "delete_cmd_postfix": ") ",
     "delete_cmd_prefix": "rm(",
     "library": "var_list.r",
     "varRefreshCmd": "cat(var_dic_list()) "
    }
   },
   "types_to_exclude": [
    "module",
    "function",
    "builtin_function_or_method",
    "instance",
    "_Feature"
   ],
   "window_display": false
  }
 },
 "nbformat": 4,
 "nbformat_minor": 5
}
