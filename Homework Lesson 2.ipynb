{
 "cells": [
  {
   "cell_type": "markdown",
   "id": "6ce9f2d8",
   "metadata": {},
   "source": [
    "# Домашняя работа к уроку 2\n",
    "### Листать вниз по коду - задачи ниже"
   ]
  },
  {
   "cell_type": "code",
   "execution_count": 1,
   "id": "57d74723",
   "metadata": {
    "ExecuteTime": {
     "end_time": "2023-03-20T18:22:37.849050Z",
     "start_time": "2023-03-20T18:22:37.304900Z"
    }
   },
   "outputs": [],
   "source": [
    "import numpy as np\n",
    "import matplotlib.pyplot as plt"
   ]
  },
  {
   "cell_type": "code",
   "execution_count": 2,
   "id": "1fd83e33",
   "metadata": {
    "ExecuteTime": {
     "end_time": "2023-03-20T18:22:47.053851Z",
     "start_time": "2023-03-20T18:22:47.038918Z"
    }
   },
   "outputs": [],
   "source": [
    "X = np.array([[   1,    1,  500,    1],\n",
    "              [   1,    1,  700,    1],\n",
    "              [   1,    2,  750,    2],\n",
    "              [   1,    5,  600,    1],\n",
    "              [   1,    3, 1450,    2],\n",
    "              [   1,    0,  800,    1],\n",
    "              [   1,    5, 1500,    3],\n",
    "              [   1,   10, 2000,    3],\n",
    "              [   1,    1,  450,    1],\n",
    "              [   1,    2, 1000,    2]])"
   ]
  },
  {
   "cell_type": "code",
   "execution_count": 3,
   "id": "8310e67f",
   "metadata": {
    "ExecuteTime": {
     "end_time": "2023-03-20T18:22:57.620042Z",
     "start_time": "2023-03-20T18:22:57.607097Z"
    }
   },
   "outputs": [],
   "source": [
    "y = [45, 55, 50, 55, 60, 35, 75, 80, 50, 60]"
   ]
  },
  {
   "cell_type": "code",
   "execution_count": 4,
   "id": "c73d0c7c",
   "metadata": {
    "ExecuteTime": {
     "end_time": "2023-03-20T18:23:43.303349Z",
     "start_time": "2023-03-20T18:23:43.287391Z"
    }
   },
   "outputs": [],
   "source": [
    "def min_max_scale(X):\n",
    "    return (X - X.min()) / (X.max() - X.min())"
   ]
  },
  {
   "cell_type": "code",
   "execution_count": 5,
   "id": "6d8c0f28",
   "metadata": {
    "ExecuteTime": {
     "end_time": "2023-03-20T18:25:17.491008Z",
     "start_time": "2023-03-20T18:25:17.479040Z"
    }
   },
   "outputs": [],
   "source": [
    "def standard_scale(X):\n",
    "    mean = X.mean()\n",
    "    std = X.std()\n",
    "    return (X - mean) / std"
   ]
  },
  {
   "cell_type": "code",
   "execution_count": 14,
   "id": "d1a47aaa",
   "metadata": {
    "ExecuteTime": {
     "end_time": "2023-03-20T18:34:13.228859Z",
     "start_time": "2023-03-20T18:34:13.212877Z"
    }
   },
   "outputs": [],
   "source": [
    "X_st = standard_scale(X)"
   ]
  },
  {
   "cell_type": "code",
   "execution_count": 6,
   "id": "e87f77f9",
   "metadata": {
    "ExecuteTime": {
     "end_time": "2023-03-20T18:25:42.000339Z",
     "start_time": "2023-03-20T18:25:41.991389Z"
    }
   },
   "outputs": [],
   "source": [
    "def calc_mse(y, y_pred):\n",
    "    err = np.mean((y - y_pred)**2)\n",
    "    return err"
   ]
  },
  {
   "cell_type": "code",
   "execution_count": 27,
   "id": "92b3732d",
   "metadata": {
    "ExecuteTime": {
     "end_time": "2023-03-20T18:48:52.695319Z",
     "start_time": "2023-03-20T18:48:52.688314Z"
    }
   },
   "outputs": [
    {
     "data": {
      "text/plain": [
       "array([0.41888491, 0.82674315, 0.7887853 , 0.35002654])"
      ]
     },
     "execution_count": 27,
     "metadata": {},
     "output_type": "execute_result"
    }
   ],
   "source": [
    "#np.random.seed(1234)\n",
    "W = np.random.randn(X.shape[1])\n",
    "W"
   ]
  },
  {
   "cell_type": "code",
   "execution_count": 28,
   "id": "c5b4abfc",
   "metadata": {
    "ExecuteTime": {
     "end_time": "2023-03-20T18:48:53.437044Z",
     "start_time": "2023-03-20T18:48:53.424082Z"
    }
   },
   "outputs": [],
   "source": [
    "# классический  GD\n",
    "def gradient_descent(X, y, iterations, eta=1e-4):\n",
    "    W = np.random.randn(X.shape[1])\n",
    "    n = X.shape[0]\n",
    "    \n",
    "    for i in range(0, iterations):\n",
    "        y_pred = np.dot(X, W)\n",
    "        err = calc_mse(y, y_pred)\n",
    "        dQ = 2/n * X.T @ (y_pred - y) # градиент функции ошибки\n",
    "        W -= (eta * dQ)\n",
    "        if i % (iterations / 10) == 0:\n",
    "            print(f'Iter: {i}, weights: {W}, error {err}')\n",
    "    print(f'Final MSE: {calc_mse(y, np.dot(X, W))}')\n",
    "    return W"
   ]
  },
  {
   "cell_type": "code",
   "execution_count": 29,
   "id": "9ac11cbc",
   "metadata": {
    "ExecuteTime": {
     "end_time": "2023-03-20T18:48:54.319850Z",
     "start_time": "2023-03-20T18:48:54.176992Z"
    }
   },
   "outputs": [
    {
     "name": "stdout",
     "output_type": "stream",
     "text": [
      "Iter: 0, weights: [-0.52280523  0.11661539  1.38320602 -0.46789514], error 3511.6574790123996\n",
      "Iter: 500, weights: [-24.42523067 -23.71124828  12.71939975 -24.36359733], error 57.8223903663888\n",
      "Iter: 1000, weights: [-26.90658053 -26.05974056  10.92741551 -26.82651314], error 52.29597026953083\n",
      "Iter: 1500, weights: [-27.29602017 -26.29766512  10.68314399 -27.19231107], error 52.190854245941765\n",
      "Iter: 2000, weights: [-27.40068734 -26.24828797  10.64956054 -27.27262765], error 52.18620091428411\n",
      "Iter: 2500, weights: [-27.46658528 -26.15980787  10.64465781 -27.31407853], error 52.18340971308121\n",
      "Iter: 3000, weights: [-27.52720206 -26.06601176  10.64365937 -27.35023515], error 52.18065347432798\n",
      "Iter: 3500, weights: [-27.58709638 -25.97149902  10.64319244 -27.38566756], error 52.17789833867865\n",
      "Iter: 4000, weights: [-27.6468888  -25.87689576  10.64279789 -27.42099786], error 52.17514367860717\n",
      "Iter: 4500, weights: [-27.70666381 -25.78228721  10.64241323 -27.45631074], error 52.17238948240664\n",
      "Final MSE: 52.169635749781854\n"
     ]
    },
    {
     "data": {
      "text/plain": [
       "array([-27.76631337, -25.68787416,  10.6420307 , -27.49154713])"
      ]
     },
     "execution_count": 29,
     "metadata": {},
     "output_type": "execute_result"
    }
   ],
   "source": [
    "gradient_descent(X_st, y, iterations=5000, eta=1e-2)"
   ]
  },
  {
   "cell_type": "code",
   "execution_count": 30,
   "id": "03ea6a99",
   "metadata": {
    "ExecuteTime": {
     "end_time": "2023-03-20T18:48:56.055326Z",
     "start_time": "2023-03-20T18:48:56.048345Z"
    }
   },
   "outputs": [],
   "source": [
    "# стохастический градиентный спуск\n",
    "def stohastic_gradient_descent(X, y, iterations, batch_size, eta=1e-4):\n",
    "    W = np.random.randn(X.shape[1])\n",
    "    n = X.shape[0]\n",
    "    \n",
    "    n_batch = n // batch_size    \n",
    "    if n % batch_size != 0:\n",
    "        n_batch += 1\n",
    "    print(f'amount of batches is {n_batch}')\n",
    "        \n",
    "    for i in range(0, iterations):\n",
    "        \n",
    "        for b in range(n_batch):\n",
    "            inds = np.random.randint(n, size=batch_size)\n",
    "\n",
    "            X_tmp = X[inds, ]\n",
    "            y_tmp = np.array(y)[inds]\n",
    "\n",
    "            \n",
    "            y_pred_tmp = np.dot(X_tmp, W)\n",
    "            dQ = 2/len(y_tmp) * X_tmp.T @ (y_pred_tmp - y_tmp) # градиент функции ошибки\n",
    "            W -= (eta * dQ)\n",
    "            \n",
    "            err = calc_mse(y, np.dot(X, W))\n",
    "        \n",
    "        if i % (iterations / 10) == 0:\n",
    "            print(f'Iter: {i}, weights: {W}, error {err}')\n",
    "    \n",
    "    print(f'Final MSE: {calc_mse(y, np.dot(X, W))}')\n",
    "    return W"
   ]
  },
  {
   "cell_type": "code",
   "execution_count": 31,
   "id": "155e5610",
   "metadata": {
    "ExecuteTime": {
     "end_time": "2023-03-20T18:48:57.929238Z",
     "start_time": "2023-03-20T18:48:57.296681Z"
    }
   },
   "outputs": [
    {
     "name": "stdout",
     "output_type": "stream",
     "text": [
      "amount of batches is 3\n",
      "Iter: 0, weights: [-2.67061046 -0.18320855  6.1564437  -1.87691393], error 2084.433600723753\n",
      "Iter: 500, weights: [-28.18357866 -25.33919006  10.58667559 -27.34585407], error 52.17637583347956\n",
      "Iter: 1000, weights: [-28.33259746 -25.01313205  10.67369113 -27.41973164], error 52.15343547645\n",
      "Iter: 1500, weights: [-28.48071952 -24.66888383  10.86481228 -27.49125722], error 52.22773149606792\n",
      "Iter: 2000, weights: [-28.62587098 -24.34513681  10.65684986 -27.56086716], error 52.166396620734574\n",
      "Iter: 2500, weights: [-28.94763516 -24.21295301  10.72606573 -27.80932818], error 52.15422873672323\n",
      "Iter: 3000, weights: [-28.974076   -23.76443392  11.03068226 -27.7609199 ], error 52.4083967667033\n",
      "Iter: 3500, weights: [-29.48315415 -23.79571273  11.10373806 -28.19548565], error 53.25963650562295\n",
      "Iter: 4000, weights: [-29.57121992 -23.41828879  10.93679015 -28.2083376 ], error 52.5256020214837\n",
      "Iter: 4500, weights: [-29.60181328 -22.98940493  10.34541742 -28.16508138], error 52.4541351083695\n",
      "Final MSE: 53.113328299228975\n"
     ]
    },
    {
     "data": {
      "text/plain": [
       "array([-29.93172303, -22.8863446 ,  10.0036369 , -28.42513537])"
      ]
     },
     "execution_count": 31,
     "metadata": {},
     "output_type": "execute_result"
    }
   ],
   "source": [
    "stohastic_gradient_descent(X_st, y, iterations=5000, batch_size=4, eta=1e-2)"
   ]
  },
  {
   "cell_type": "code",
   "execution_count": 32,
   "id": "5fa24e1b",
   "metadata": {
    "ExecuteTime": {
     "end_time": "2023-03-20T18:49:02.788874Z",
     "start_time": "2023-03-20T18:49:02.777017Z"
    }
   },
   "outputs": [],
   "source": [
    "def gradient_descent_reg_l2(X, y, iterations, eta=1e-4, reg=1e-8):\n",
    "    W = np.random.randn(X.shape[1])\n",
    "    n = X.shape[0]\n",
    "    \n",
    "    for i in range(0, iterations):\n",
    "        y_pred = np.dot(X, W)\n",
    "        err = calc_mse(y, y_pred)\n",
    "        \n",
    "        dQ = 2/n * X.T @ (y_pred - y) # градиент функции ошибки\n",
    "        dReg = reg * W # градиент регуляризации\n",
    "        \n",
    "        W -= eta * (dQ + dReg)\n",
    "        \n",
    "        #if i % (iterations / 10) == 0:\n",
    "            #print(f'Iter: {i}, weights: {W}, error {err}')\n",
    "    \n",
    "    #print(f'Final MSE: {calc_mse(y, np.dot(X, W))}')\n",
    "    return W"
   ]
  },
  {
   "cell_type": "markdown",
   "id": "c7fce668",
   "metadata": {},
   "source": [
    "### Задача 1\n",
    "Постройте график зависимости весов всех признаков от lambda в самописной L2-регуляризации (на данных про ЕГЭ). Сделайте вывод"
   ]
  },
  {
   "cell_type": "code",
   "execution_count": 83,
   "id": "d2387b85",
   "metadata": {
    "ExecuteTime": {
     "end_time": "2023-03-20T20:32:30.064028Z",
     "start_time": "2023-03-20T20:32:26.284752Z"
    }
   },
   "outputs": [
    {
     "name": "stderr",
     "output_type": "stream",
     "text": [
      "C:\\ProgramData\\Anaconda3\\lib\\site-packages\\numpy\\core\\_methods.py:179: RuntimeWarning: overflow encountered in reduce\n",
      "  ret = umr_sum(arr, axis, dtype, out, keepdims, where=where)\n",
      "C:\\Users\\User\\AppData\\Local\\Temp\\ipykernel_11920\\1493808047.py:2: RuntimeWarning: overflow encountered in square\n",
      "  err = np.mean((y - y_pred)**2)\n",
      "C:\\Users\\User\\AppData\\Local\\Temp\\ipykernel_11920\\244607881.py:12: RuntimeWarning: overflow encountered in add\n",
      "  W -= eta * (dQ + dReg)\n",
      "C:\\Users\\User\\AppData\\Local\\Temp\\ipykernel_11920\\244607881.py:12: RuntimeWarning: invalid value encountered in subtract\n",
      "  W -= eta * (dQ + dReg)\n",
      "C:\\Users\\User\\AppData\\Local\\Temp\\ipykernel_11920\\244607881.py:10: RuntimeWarning: overflow encountered in multiply\n",
      "  dReg = reg * W # градиент регуляризации\n"
     ]
    },
    {
     "data": {
      "text/plain": [
       "[array([-31.76176765, -18.53435341,  10.61381514, -30.68463081]),\n",
       " array([-32.08153401, -18.27300168,  10.61253539, -30.62774162]),\n",
       " array([-34.21237687, -16.86472954,  10.60505351, -29.91397706]),\n",
       " array([-32.73556042, -18.59008853,  10.61259623, -29.65625088]),\n",
       " array([-33.20887294, -16.84327853,  10.60642943, -30.93757113]),\n",
       " array([-34.30686266, -16.94738131,  10.60518758, -29.73659102]),\n",
       " array([-33.69937472, -17.76917371,  10.60865312, -29.51800146]),\n",
       " array([-33.48627681, -16.97788137,  10.60649377, -30.52523077]),\n",
       " array([-33.62810716, -16.37611611,  10.60444348, -30.9876323 ]),\n",
       " array([-32.40114031, -17.32625536,  10.60927902, -31.25841179]),\n",
       " array([-32.88885099, -17.40197979,  10.60899623, -30.6945516 ]),\n",
       " array([-31.7430139 , -18.04799931,  10.61302739, -31.18846912]),\n",
       " array([-32.65026463, -19.51465609,  10.61705084, -28.80660389]),\n",
       " array([-32.50705662, -16.9618681 ,  10.61066051, -31.50638619]),\n",
       " array([-32.3756585 , -17.62740859,  10.61579707, -30.95638263]),\n",
       " array([-32.32156893, -18.42137982,  10.62407873, -30.18729357]),\n",
       " array([-32.55103562, -19.64065423,  10.6389836 , -28.68219294]),\n",
       " array([-30.93416458, -20.94212851,  10.66813479, -28.886825  ]),\n",
       " array([-29.99233031, -21.58371028,  10.71674114, -28.97785115]),\n",
       " array([-28.83195408, -23.39460975,  10.81361097, -27.91168426]),\n",
       " array([-27.53980754, -24.70515226,  10.99483972, -27.08835553]),\n",
       " array([-26.46258212, -25.08118725,  11.33365967, -26.24998931]),\n",
       " array([-25.22965225, -24.57620651,  11.95318363, -25.13143025]),\n",
       " array([-23.43439014, -23.13519856,  13.01090316, -23.39061458]),\n",
       " array([-20.77847732, -20.64188976,  14.59707075, -20.75789781]),\n",
       " array([-17.30444179, -17.23216712,  16.50884728, -17.29079152]),\n",
       " array([-13.53893395, -13.48471187,  18.09392551, -13.52495027]),\n",
       " array([-10.13914112, -10.08735068,  18.49454218, -10.12338897]),\n",
       " array([-7.37948241, -7.33016624, 17.14186171, -7.36356426]),\n",
       " array([-5.16488649, -5.12302777, 14.10184728, -5.15108888]),\n",
       " array([-3.3838158 , -3.35300665, 10.17238799, -3.37357747]),\n",
       " array([nan, nan, nan, nan]),\n",
       " array([nan, nan, nan, nan]),\n",
       " array([nan, nan, nan, nan])]"
      ]
     },
     "execution_count": 83,
     "metadata": {},
     "output_type": "execute_result"
    }
   ],
   "source": [
    "w_list = []\n",
    "lamb = 1e-8\n",
    "lamb_list = []\n",
    "while lamb<100:\n",
    "    w_list.append(gradient_descent_reg_l2(X_st, y, iterations=5000, eta=1e-1, reg=lamb))\n",
    "    lamb_list.append(lamb)\n",
    "    lamb*=2\n",
    "    \n",
    "w_list"
   ]
  },
  {
   "cell_type": "code",
   "execution_count": 82,
   "id": "0a922cb0",
   "metadata": {
    "ExecuteTime": {
     "end_time": "2023-03-20T20:31:56.552789Z",
     "start_time": "2023-03-20T20:31:56.349308Z"
    }
   },
   "outputs": [
    {
     "data": {
      "image/png": "[encoded data removed]",
      "text/plain": [
       "<Figure size 432x288 with 4 Axes>"
      ]
     },
     "metadata": {
      "needs_background": "light"
     },
     "output_type": "display_data"
    }
   ],
   "source": [
    "fig, ax = plt.subplots(2,2)\n",
    "\n",
    "\n",
    "w_show = []\n",
    "for i in w_list:\n",
    "    w_show.append(i[0])\n",
    "ax[0,0].plot(lamb_list, w_show)\n",
    "plt.grid()\n",
    "\n",
    "w_show = []\n",
    "for i in w_list:\n",
    "    w_show.append(i[1])\n",
    "ax[0,1].plot(lamb_list, w_show)\n",
    "plt.grid()\n",
    "\n",
    "w_show = []\n",
    "for i in w_list:\n",
    "    w_show.append(i[2])\n",
    "ax[1,0].plot(lamb_list, w_show)\n",
    "plt.grid()\n",
    "\n",
    "w_show = []\n",
    "for i in w_list:\n",
    "    w_show.append(i[3])\n",
    "ax[1,1].plot(lamb_list, w_show)\n",
    "plt.grid()\n",
    "\n",
    "plt.show()"
   ]
  },
  {
   "cell_type": "markdown",
   "id": "a0285261",
   "metadata": {},
   "source": [
    "#### Вывод:\n",
    "При увеличении lambda веса (по модулю) стремятся к 0"
   ]
  },
  {
   "cell_type": "markdown",
   "id": "26389253",
   "metadata": {},
   "source": [
    "### Задача 2\n",
    "Напишите функцию наподобие gradient_descent_reg_l2, но для применения L1-регуляризации."
   ]
  },
  {
   "cell_type": "code",
   "execution_count": 77,
   "id": "05042389",
   "metadata": {
    "ExecuteTime": {
     "end_time": "2023-03-20T20:25:47.642581Z",
     "start_time": "2023-03-20T20:25:47.628618Z"
    }
   },
   "outputs": [],
   "source": [
    "def gradient_descent_reg_l1(X, y, iterations, eta=1e-4, reg=1e-8):\n",
    "    W = np.random.randn(X.shape[1]) # начальные веса\n",
    "    n = X.shape[0] \n",
    "    \n",
    "    for i in range(0, iterations):\n",
    "        y_pred = np.dot(X, W)\n",
    "        err = calc_mse(y, y_pred)\n",
    "        \n",
    "        dQ = 2/n * X.T @ (y_pred - y) # градиент функции ошибки\n",
    "        dReg = reg # градиент регуляризации - производная d(lambda*w)/dw = lambda\n",
    "        \n",
    "        W -= eta * (dQ + dReg)\n",
    "        \n",
    "    return W"
   ]
  },
  {
   "cell_type": "code",
   "execution_count": 76,
   "id": "426d14c2",
   "metadata": {
    "ExecuteTime": {
     "end_time": "2023-03-20T20:24:19.438065Z",
     "start_time": "2023-03-20T20:24:19.308168Z"
    }
   },
   "outputs": [
    {
     "data": {
      "text/plain": [
       "array([-32.46539576, -17.30738023,  10.60696208, -31.22194469])"
      ]
     },
     "execution_count": 76,
     "metadata": {},
     "output_type": "execute_result"
    }
   ],
   "source": [
    "gradient_descent_reg_l1(X_st, y, iterations=5000, eta=1e-1, reg=1e-3)"
   ]
  },
  {
   "cell_type": "markdown",
   "id": "b845046a",
   "metadata": {},
   "source": [
    "### Задача 3\n",
    "*Можно ли к одному и тому же признаку применить сразу и нормализацию, и стандартизацию?"
   ]
  },
  {
   "cell_type": "code",
   "execution_count": 61,
   "id": "a8b949ba",
   "metadata": {
    "ExecuteTime": {
     "end_time": "2023-03-20T19:53:27.926837Z",
     "start_time": "2023-03-20T19:53:27.915868Z"
    }
   },
   "outputs": [
    {
     "name": "stdout",
     "output_type": "stream",
     "text": [
      "У исходного признака:\n",
      "min=450, max=2000\n",
      "среднее=975.0, станд.отклонение=484.8968962573384\n"
     ]
    }
   ],
   "source": [
    "X0 = X[:,2]\n",
    "print('У исходного признака:')\n",
    "print(f'min={X0.min()}, max={X0.max()}')\n",
    "print(f'среднее={X0.mean()}, станд.отклонение={X0.std()}')"
   ]
  },
  {
   "cell_type": "code",
   "execution_count": 62,
   "id": "3ba978b1",
   "metadata": {
    "ExecuteTime": {
     "end_time": "2023-03-20T19:53:28.888708Z",
     "start_time": "2023-03-20T19:53:28.883721Z"
    }
   },
   "outputs": [
    {
     "name": "stdout",
     "output_type": "stream",
     "text": [
      "После применения к признаку только нормализации:\n",
      "min=0.0, max=1.0\n",
      "среднее=0.33870967741935487, станд.отклонение=0.312836707262799\n"
     ]
    }
   ],
   "source": [
    "X0_norm = min_max_scale(X0)\n",
    "print('После применения к признаку только нормализации:')\n",
    "print(f'min={X0_norm.min()}, max={X0_norm.max()}')\n",
    "print(f'среднее={X0_norm.mean()}, станд.отклонение={X0_norm.std()}')"
   ]
  },
  {
   "cell_type": "code",
   "execution_count": 63,
   "id": "d76d9ca1",
   "metadata": {
    "ExecuteTime": {
     "end_time": "2023-03-20T19:53:29.913655Z",
     "start_time": "2023-03-20T19:53:29.907683Z"
    }
   },
   "outputs": [
    {
     "name": "stdout",
     "output_type": "stream",
     "text": [
      "После применения к признаку только стандартизации:\n",
      "min=-1.0827043935570553, max=2.1138514350399653\n",
      "среднее=-4.163336342344337e-17, станд.отклонение=0.9999999999999999\n"
     ]
    }
   ],
   "source": [
    "X0_stand = standard_scale(X0)\n",
    "print('После применения к признаку только стандартизации:')\n",
    "print(f'min={X0_stand.min()}, max={X0_stand.max()}')\n",
    "print(f'среднее={X0_stand.mean()}, станд.отклонение={X0_stand.std()}')"
   ]
  },
  {
   "cell_type": "code",
   "execution_count": 64,
   "id": "a9467121",
   "metadata": {
    "ExecuteTime": {
     "end_time": "2023-03-20T19:53:30.828085Z",
     "start_time": "2023-03-20T19:53:30.811131Z"
    }
   },
   "outputs": [
    {
     "name": "stdout",
     "output_type": "stream",
     "text": [
      "После применения к признаку сначала нормализации, а затем стандартизации:\n",
      "min=-1.0827043935570555, max=2.1138514350399653\n",
      "среднее=-1.1310397063368783e-16, станд.отклонение=0.9999999999999999\n"
     ]
    }
   ],
   "source": [
    "X0_norm_stand = standard_scale(min_max_scale(X0))\n",
    "print('После применения к признаку сначала нормализации, а затем стандартизации:')\n",
    "print(f'min={X0_norm_stand.min()}, max={X0_norm_stand.max()}')\n",
    "print(f'среднее={X0_norm_stand.mean()}, станд.отклонение={X0_norm_stand.std()}')"
   ]
  },
  {
   "cell_type": "code",
   "execution_count": 65,
   "id": "041930c9",
   "metadata": {
    "ExecuteTime": {
     "end_time": "2023-03-20T19:53:31.571867Z",
     "start_time": "2023-03-20T19:53:31.562876Z"
    }
   },
   "outputs": [
    {
     "name": "stdout",
     "output_type": "stream",
     "text": [
      "После применения к признаку сначала стандартизации, а затем нормализации:\n",
      "min=0.0, max=1.0\n",
      "среднее=0.3387096774193548, станд.отклонение=0.312836707262799\n"
     ]
    }
   ],
   "source": [
    "X0_stand_norm = min_max_scale(standard_scale(X0))\n",
    "print('После применения к признаку сначала стандартизации, а затем нормализации:')\n",
    "print(f'min={X0_stand_norm.min()}, max={X0_stand_norm.max()}')\n",
    "print(f'среднее={X0_stand_norm.mean()}, станд.отклонение={X0_stand_norm.std()}')"
   ]
  },
  {
   "cell_type": "markdown",
   "id": "34147da9",
   "metadata": {},
   "source": [
    "#### Вывод:\n",
    "Таким образом применится тот вид масштабирования, который был применен к признаку крайним"
   ]
  }
 ],
 "metadata": {
  "kernelspec": {
   "display_name": "Python 3 (ipykernel)",
   "language": "python",
   "name": "python3"
  },
  "language_info": {
   "codemirror_mode": {
    "name": "ipython",
    "version": 3
   },
   "file_extension": ".py",
   "mimetype": "text/x-python",
   "name": "python",
   "nbconvert_exporter": "python",
   "pygments_lexer": "ipython3",
   "version": "3.9.12"
  },
  "varInspector": {
   "cols": {
    "lenName": 16,
    "lenType": 16,
    "lenVar": 40
   },
   "kernels_config": {
    "python": {
     "delete_cmd_postfix": "",
     "delete_cmd_prefix": "del ",
     "library": "var_list.py",
     "varRefreshCmd": "print(var_dic_list())"
    },
    "r": {
     "delete_cmd_postfix": ") ",
     "delete_cmd_prefix": "rm(",
     "library": "var_list.r",
     "varRefreshCmd": "cat(var_dic_list()) "
    }
   },
   "types_to_exclude": [
    "module",
    "function",
    "builtin_function_or_method",
    "instance",
    "_Feature"
   ],
   "window_display": false
  }
 },
 "nbformat": 4,
 "nbformat_minor": 5
}
